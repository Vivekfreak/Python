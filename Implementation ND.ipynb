{
 "cells": [
  {
   "cell_type": "code",
   "execution_count": 1,
   "id": "35ab62e7",
   "metadata": {
    "ExecuteTime": {
     "end_time": "2022-12-07T06:37:28.006384Z",
     "start_time": "2022-12-07T06:37:27.995051Z"
    }
   },
   "outputs": [],
   "source": [
    "#Import libraries"
   ]
  },
  {
   "cell_type": "code",
   "execution_count": 52,
   "id": "de63fd32",
   "metadata": {
    "ExecuteTime": {
     "end_time": "2022-12-08T06:11:11.530067Z",
     "start_time": "2022-12-08T06:11:11.511307Z"
    }
   },
   "outputs": [],
   "source": [
    "import pandas as pd \n",
    "import numpy as np\n",
    "import matplotlib.pyplot as plt\n",
    "import seaborn as sns\n",
    "%matplotlib inline\n",
    "import warnings\n",
    "warnings.filterwarnings('ignore')"
   ]
  },
  {
   "cell_type": "code",
   "execution_count": 3,
   "id": "37f5d7c6",
   "metadata": {
    "ExecuteTime": {
     "end_time": "2022-12-07T06:37:33.036976Z",
     "start_time": "2022-12-07T06:37:33.012918Z"
    }
   },
   "outputs": [],
   "source": [
    "#Load datasets"
   ]
  },
  {
   "cell_type": "code",
   "execution_count": 4,
   "id": "aecac89a",
   "metadata": {
    "ExecuteTime": {
     "end_time": "2022-12-07T06:37:33.419173Z",
     "start_time": "2022-12-07T06:37:33.069364Z"
    }
   },
   "outputs": [
    {
     "data": {
      "text/plain": [
       "<bound method NDFrame.head of             Date     Open     High      Low    Last    Close  \\\n",
       "0     2010-01-04  1613.00  1629.10  1602.00  1629.0  1625.65   \n",
       "1     2010-01-05  1639.95  1639.95  1611.05  1620.0  1616.80   \n",
       "2     2010-01-06  1618.00  1644.00  1617.00  1639.0  1638.50   \n",
       "3     2010-01-07  1645.00  1654.00  1636.00  1648.0  1648.70   \n",
       "4     2010-01-08  1650.00  1650.00  1626.55  1640.0  1639.80   \n",
       "...          ...      ...      ...      ...     ...      ...   \n",
       "1734  2016-12-26  2703.00  2740.00  2677.00  2715.0  2723.50   \n",
       "1735  2016-12-27  2722.95  2725.00  2683.00  2692.0  2701.75   \n",
       "1736  2016-12-28  2701.75  2718.00  2690.00  2698.0  2702.15   \n",
       "1737  2016-12-29  2702.05  2739.00  2691.95  2710.0  2727.90   \n",
       "1738  2016-12-30  2730.00  2740.45  2705.00  2730.0  2729.80   \n",
       "\n",
       "      Total Trade Quantity  Turnover (Lacs)  \n",
       "0                   9365.0           151.74  \n",
       "1                  38148.0           622.58  \n",
       "2                  36519.0           595.09  \n",
       "3                  12809.0           211.00  \n",
       "4                  28035.0           459.11  \n",
       "...                    ...              ...  \n",
       "1734                3953.0           107.15  \n",
       "1735               10600.0           286.10  \n",
       "1736                6050.0           163.44  \n",
       "1737                7649.0           207.87  \n",
       "1738                6513.0           177.65  \n",
       "\n",
       "[1739 rows x 8 columns]>"
      ]
     },
     "execution_count": 4,
     "metadata": {},
     "output_type": "execute_result"
    }
   ],
   "source": [
    "glaxo = pd.read_csv('https://raw.githubusercontent.com/aishwaryamate/Datasets/main/GLAXO.csv')\n",
    "glaxo.head"
   ]
  },
  {
   "cell_type": "code",
   "execution_count": 5,
   "id": "25a33b59",
   "metadata": {
    "ExecuteTime": {
     "end_time": "2022-12-07T06:37:33.628860Z",
     "start_time": "2022-12-07T06:37:33.428973Z"
    }
   },
   "outputs": [
    {
     "data": {
      "text/plain": [
       "<bound method NDFrame.head of             Date     Open     High      Low     Last    Close  \\\n",
       "0     2010-01-04  1121.00  1151.00  1121.00  1134.00  1135.60   \n",
       "1     2010-01-05  1146.80  1149.00  1128.75  1135.00  1134.60   \n",
       "2     2010-01-06  1140.00  1164.25  1130.05  1137.00  1139.60   \n",
       "3     2010-01-07  1142.00  1159.40  1119.20  1141.00  1144.15   \n",
       "4     2010-01-08  1156.00  1172.00  1140.00  1141.20  1144.05   \n",
       "...          ...      ...      ...      ...      ...      ...   \n",
       "1734  2016-12-26   965.00   965.05   935.00   950.10   950.25   \n",
       "1735  2016-12-27   960.70   989.00   952.35   974.00   975.70   \n",
       "1736  2016-12-28   980.75   985.00   970.15   977.00   974.40   \n",
       "1737  2016-12-29   977.10   997.95   974.55   985.15   986.05   \n",
       "1738  2016-12-30   986.00  1006.95   985.90  1004.00  1000.60   \n",
       "\n",
       "      Total Trade Quantity  Turnover (Lacs)  \n",
       "0                 101651.0          1157.18  \n",
       "1                  59504.0           676.47  \n",
       "2                 128908.0          1482.84  \n",
       "3                 117871.0          1352.98  \n",
       "4                 170063.0          1971.42  \n",
       "...                    ...              ...  \n",
       "1734              398696.0          3783.63  \n",
       "1735              808561.0          7885.14  \n",
       "1736              367041.0          3592.49  \n",
       "1737              555233.0          5489.14  \n",
       "1738              460675.0          4606.48  \n",
       "\n",
       "[1739 rows x 8 columns]>"
      ]
     },
     "execution_count": 5,
     "metadata": {},
     "output_type": "execute_result"
    }
   ],
   "source": [
    "beml= pd.read_csv('https://raw.githubusercontent.com/aishwaryamate/Datasets/main/BEML.csv')\n",
    "beml.head"
   ]
  },
  {
   "cell_type": "code",
   "execution_count": 6,
   "id": "6b3b4f32",
   "metadata": {
    "ExecuteTime": {
     "end_time": "2022-12-07T06:37:33.638178Z",
     "start_time": "2022-12-07T06:37:33.633724Z"
    }
   },
   "outputs": [],
   "source": [
    "#Select relevant coloumns"
   ]
  },
  {
   "cell_type": "code",
   "execution_count": 7,
   "id": "6ec132c6",
   "metadata": {
    "ExecuteTime": {
     "end_time": "2022-12-07T06:37:33.667784Z",
     "start_time": "2022-12-07T06:37:33.649041Z"
    }
   },
   "outputs": [],
   "source": [
    "glaxo = glaxo[['Date','Close']]\n",
    "beml = beml[['Date','Close']]"
   ]
  },
  {
   "cell_type": "code",
   "execution_count": 8,
   "id": "65e60d7c",
   "metadata": {
    "ExecuteTime": {
     "end_time": "2022-12-07T06:37:33.698978Z",
     "start_time": "2022-12-07T06:37:33.675615Z"
    }
   },
   "outputs": [
    {
     "data": {
      "text/html": [
       "<div>\n",
       "<style scoped>\n",
       "    .dataframe tbody tr th:only-of-type {\n",
       "        vertical-align: middle;\n",
       "    }\n",
       "\n",
       "    .dataframe tbody tr th {\n",
       "        vertical-align: top;\n",
       "    }\n",
       "\n",
       "    .dataframe thead th {\n",
       "        text-align: right;\n",
       "    }\n",
       "</style>\n",
       "<table border=\"1\" class=\"dataframe\">\n",
       "  <thead>\n",
       "    <tr style=\"text-align: right;\">\n",
       "      <th></th>\n",
       "      <th>Date</th>\n",
       "      <th>Close</th>\n",
       "    </tr>\n",
       "  </thead>\n",
       "  <tbody>\n",
       "    <tr>\n",
       "      <th>0</th>\n",
       "      <td>2010-01-04</td>\n",
       "      <td>1625.65</td>\n",
       "    </tr>\n",
       "    <tr>\n",
       "      <th>1</th>\n",
       "      <td>2010-01-05</td>\n",
       "      <td>1616.80</td>\n",
       "    </tr>\n",
       "    <tr>\n",
       "      <th>2</th>\n",
       "      <td>2010-01-06</td>\n",
       "      <td>1638.50</td>\n",
       "    </tr>\n",
       "    <tr>\n",
       "      <th>3</th>\n",
       "      <td>2010-01-07</td>\n",
       "      <td>1648.70</td>\n",
       "    </tr>\n",
       "    <tr>\n",
       "      <th>4</th>\n",
       "      <td>2010-01-08</td>\n",
       "      <td>1639.80</td>\n",
       "    </tr>\n",
       "    <tr>\n",
       "      <th>...</th>\n",
       "      <td>...</td>\n",
       "      <td>...</td>\n",
       "    </tr>\n",
       "    <tr>\n",
       "      <th>1734</th>\n",
       "      <td>2016-12-26</td>\n",
       "      <td>2723.50</td>\n",
       "    </tr>\n",
       "    <tr>\n",
       "      <th>1735</th>\n",
       "      <td>2016-12-27</td>\n",
       "      <td>2701.75</td>\n",
       "    </tr>\n",
       "    <tr>\n",
       "      <th>1736</th>\n",
       "      <td>2016-12-28</td>\n",
       "      <td>2702.15</td>\n",
       "    </tr>\n",
       "    <tr>\n",
       "      <th>1737</th>\n",
       "      <td>2016-12-29</td>\n",
       "      <td>2727.90</td>\n",
       "    </tr>\n",
       "    <tr>\n",
       "      <th>1738</th>\n",
       "      <td>2016-12-30</td>\n",
       "      <td>2729.80</td>\n",
       "    </tr>\n",
       "  </tbody>\n",
       "</table>\n",
       "<p>1739 rows × 2 columns</p>\n",
       "</div>"
      ],
      "text/plain": [
       "            Date    Close\n",
       "0     2010-01-04  1625.65\n",
       "1     2010-01-05  1616.80\n",
       "2     2010-01-06  1638.50\n",
       "3     2010-01-07  1648.70\n",
       "4     2010-01-08  1639.80\n",
       "...          ...      ...\n",
       "1734  2016-12-26  2723.50\n",
       "1735  2016-12-27  2701.75\n",
       "1736  2016-12-28  2702.15\n",
       "1737  2016-12-29  2727.90\n",
       "1738  2016-12-30  2729.80\n",
       "\n",
       "[1739 rows x 2 columns]"
      ]
     },
     "execution_count": 8,
     "metadata": {},
     "output_type": "execute_result"
    }
   ],
   "source": [
    "glaxo"
   ]
  },
  {
   "cell_type": "code",
   "execution_count": 9,
   "id": "19d50bb1",
   "metadata": {
    "ExecuteTime": {
     "end_time": "2022-12-07T06:37:33.741810Z",
     "start_time": "2022-12-07T06:37:33.716859Z"
    }
   },
   "outputs": [
    {
     "data": {
      "text/html": [
       "<div>\n",
       "<style scoped>\n",
       "    .dataframe tbody tr th:only-of-type {\n",
       "        vertical-align: middle;\n",
       "    }\n",
       "\n",
       "    .dataframe tbody tr th {\n",
       "        vertical-align: top;\n",
       "    }\n",
       "\n",
       "    .dataframe thead th {\n",
       "        text-align: right;\n",
       "    }\n",
       "</style>\n",
       "<table border=\"1\" class=\"dataframe\">\n",
       "  <thead>\n",
       "    <tr style=\"text-align: right;\">\n",
       "      <th></th>\n",
       "      <th>Date</th>\n",
       "      <th>Close</th>\n",
       "    </tr>\n",
       "  </thead>\n",
       "  <tbody>\n",
       "    <tr>\n",
       "      <th>0</th>\n",
       "      <td>2010-01-04</td>\n",
       "      <td>1135.60</td>\n",
       "    </tr>\n",
       "    <tr>\n",
       "      <th>1</th>\n",
       "      <td>2010-01-05</td>\n",
       "      <td>1134.60</td>\n",
       "    </tr>\n",
       "    <tr>\n",
       "      <th>2</th>\n",
       "      <td>2010-01-06</td>\n",
       "      <td>1139.60</td>\n",
       "    </tr>\n",
       "    <tr>\n",
       "      <th>3</th>\n",
       "      <td>2010-01-07</td>\n",
       "      <td>1144.15</td>\n",
       "    </tr>\n",
       "    <tr>\n",
       "      <th>4</th>\n",
       "      <td>2010-01-08</td>\n",
       "      <td>1144.05</td>\n",
       "    </tr>\n",
       "    <tr>\n",
       "      <th>...</th>\n",
       "      <td>...</td>\n",
       "      <td>...</td>\n",
       "    </tr>\n",
       "    <tr>\n",
       "      <th>1734</th>\n",
       "      <td>2016-12-26</td>\n",
       "      <td>950.25</td>\n",
       "    </tr>\n",
       "    <tr>\n",
       "      <th>1735</th>\n",
       "      <td>2016-12-27</td>\n",
       "      <td>975.70</td>\n",
       "    </tr>\n",
       "    <tr>\n",
       "      <th>1736</th>\n",
       "      <td>2016-12-28</td>\n",
       "      <td>974.40</td>\n",
       "    </tr>\n",
       "    <tr>\n",
       "      <th>1737</th>\n",
       "      <td>2016-12-29</td>\n",
       "      <td>986.05</td>\n",
       "    </tr>\n",
       "    <tr>\n",
       "      <th>1738</th>\n",
       "      <td>2016-12-30</td>\n",
       "      <td>1000.60</td>\n",
       "    </tr>\n",
       "  </tbody>\n",
       "</table>\n",
       "<p>1739 rows × 2 columns</p>\n",
       "</div>"
      ],
      "text/plain": [
       "            Date    Close\n",
       "0     2010-01-04  1135.60\n",
       "1     2010-01-05  1134.60\n",
       "2     2010-01-06  1139.60\n",
       "3     2010-01-07  1144.15\n",
       "4     2010-01-08  1144.05\n",
       "...          ...      ...\n",
       "1734  2016-12-26   950.25\n",
       "1735  2016-12-27   975.70\n",
       "1736  2016-12-28   974.40\n",
       "1737  2016-12-29   986.05\n",
       "1738  2016-12-30  1000.60\n",
       "\n",
       "[1739 rows x 2 columns]"
      ]
     },
     "execution_count": 9,
     "metadata": {},
     "output_type": "execute_result"
    }
   ],
   "source": [
    "beml"
   ]
  },
  {
   "cell_type": "code",
   "execution_count": 10,
   "id": "bb473289",
   "metadata": {
    "ExecuteTime": {
     "end_time": "2022-12-07T06:37:33.784710Z",
     "start_time": "2022-12-07T06:37:33.759426Z"
    }
   },
   "outputs": [
    {
     "data": {
      "text/html": [
       "<div>\n",
       "<style scoped>\n",
       "    .dataframe tbody tr th:only-of-type {\n",
       "        vertical-align: middle;\n",
       "    }\n",
       "\n",
       "    .dataframe tbody tr th {\n",
       "        vertical-align: top;\n",
       "    }\n",
       "\n",
       "    .dataframe thead th {\n",
       "        text-align: right;\n",
       "    }\n",
       "</style>\n",
       "<table border=\"1\" class=\"dataframe\">\n",
       "  <thead>\n",
       "    <tr style=\"text-align: right;\">\n",
       "      <th></th>\n",
       "      <th>Close</th>\n",
       "    </tr>\n",
       "  </thead>\n",
       "  <tbody>\n",
       "    <tr>\n",
       "      <th>count</th>\n",
       "      <td>1739.000000</td>\n",
       "    </tr>\n",
       "    <tr>\n",
       "      <th>mean</th>\n",
       "      <td>2532.631742</td>\n",
       "    </tr>\n",
       "    <tr>\n",
       "      <th>std</th>\n",
       "      <td>540.724125</td>\n",
       "    </tr>\n",
       "    <tr>\n",
       "      <th>min</th>\n",
       "      <td>1514.300000</td>\n",
       "    </tr>\n",
       "    <tr>\n",
       "      <th>25%</th>\n",
       "      <td>2096.825000</td>\n",
       "    </tr>\n",
       "    <tr>\n",
       "      <th>50%</th>\n",
       "      <td>2364.700000</td>\n",
       "    </tr>\n",
       "    <tr>\n",
       "      <th>75%</th>\n",
       "      <td>3010.525000</td>\n",
       "    </tr>\n",
       "    <tr>\n",
       "      <th>max</th>\n",
       "      <td>3814.750000</td>\n",
       "    </tr>\n",
       "  </tbody>\n",
       "</table>\n",
       "</div>"
      ],
      "text/plain": [
       "             Close\n",
       "count  1739.000000\n",
       "mean   2532.631742\n",
       "std     540.724125\n",
       "min    1514.300000\n",
       "25%    2096.825000\n",
       "50%    2364.700000\n",
       "75%    3010.525000\n",
       "max    3814.750000"
      ]
     },
     "execution_count": 10,
     "metadata": {},
     "output_type": "execute_result"
    }
   ],
   "source": [
    "glaxo.describe()"
   ]
  },
  {
   "cell_type": "code",
   "execution_count": 11,
   "id": "e486db20",
   "metadata": {
    "ExecuteTime": {
     "end_time": "2022-12-07T06:37:33.817601Z",
     "start_time": "2022-12-07T06:37:33.789711Z"
    }
   },
   "outputs": [
    {
     "name": "stdout",
     "output_type": "stream",
     "text": [
      "<class 'pandas.core.frame.DataFrame'>\n",
      "RangeIndex: 1739 entries, 0 to 1738\n",
      "Data columns (total 2 columns):\n",
      " #   Column  Non-Null Count  Dtype  \n",
      "---  ------  --------------  -----  \n",
      " 0   Date    1739 non-null   object \n",
      " 1   Close   1739 non-null   float64\n",
      "dtypes: float64(1), object(1)\n",
      "memory usage: 27.3+ KB\n"
     ]
    }
   ],
   "source": [
    "glaxo.info()"
   ]
  },
  {
   "cell_type": "code",
   "execution_count": 12,
   "id": "e58827e4",
   "metadata": {
    "ExecuteTime": {
     "end_time": "2022-12-07T06:37:33.833737Z",
     "start_time": "2022-12-07T06:37:33.825991Z"
    }
   },
   "outputs": [],
   "source": [
    "#Change the Datatype to DateTime"
   ]
  },
  {
   "cell_type": "code",
   "execution_count": 13,
   "id": "1ea66e2c",
   "metadata": {
    "ExecuteTime": {
     "end_time": "2022-12-07T06:37:33.852242Z",
     "start_time": "2022-12-07T06:37:33.839914Z"
    }
   },
   "outputs": [],
   "source": [
    "glaxo['Date'] = pd.DatetimeIndex(glaxo['Date'])"
   ]
  },
  {
   "cell_type": "code",
   "execution_count": 14,
   "id": "6acac97d",
   "metadata": {
    "ExecuteTime": {
     "end_time": "2022-12-07T06:37:33.872328Z",
     "start_time": "2022-12-07T06:37:33.859350Z"
    }
   },
   "outputs": [],
   "source": [
    "beml['Date'] = pd.DatetimeIndex(beml['Date'])"
   ]
  },
  {
   "cell_type": "code",
   "execution_count": 15,
   "id": "2d81dea2",
   "metadata": {
    "ExecuteTime": {
     "end_time": "2022-12-07T06:37:33.909685Z",
     "start_time": "2022-12-07T06:37:33.881208Z"
    }
   },
   "outputs": [
    {
     "data": {
      "text/html": [
       "<div>\n",
       "<style scoped>\n",
       "    .dataframe tbody tr th:only-of-type {\n",
       "        vertical-align: middle;\n",
       "    }\n",
       "\n",
       "    .dataframe tbody tr th {\n",
       "        vertical-align: top;\n",
       "    }\n",
       "\n",
       "    .dataframe thead th {\n",
       "        text-align: right;\n",
       "    }\n",
       "</style>\n",
       "<table border=\"1\" class=\"dataframe\">\n",
       "  <thead>\n",
       "    <tr style=\"text-align: right;\">\n",
       "      <th></th>\n",
       "      <th>Date</th>\n",
       "      <th>Close</th>\n",
       "    </tr>\n",
       "    <tr>\n",
       "      <th>Date</th>\n",
       "      <th></th>\n",
       "      <th></th>\n",
       "    </tr>\n",
       "  </thead>\n",
       "  <tbody>\n",
       "    <tr>\n",
       "      <th>2010-01-04</th>\n",
       "      <td>2010-01-04</td>\n",
       "      <td>1625.65</td>\n",
       "    </tr>\n",
       "    <tr>\n",
       "      <th>2010-01-05</th>\n",
       "      <td>2010-01-05</td>\n",
       "      <td>1616.80</td>\n",
       "    </tr>\n",
       "    <tr>\n",
       "      <th>2010-01-06</th>\n",
       "      <td>2010-01-06</td>\n",
       "      <td>1638.50</td>\n",
       "    </tr>\n",
       "    <tr>\n",
       "      <th>2010-01-07</th>\n",
       "      <td>2010-01-07</td>\n",
       "      <td>1648.70</td>\n",
       "    </tr>\n",
       "    <tr>\n",
       "      <th>2010-01-08</th>\n",
       "      <td>2010-01-08</td>\n",
       "      <td>1639.80</td>\n",
       "    </tr>\n",
       "    <tr>\n",
       "      <th>...</th>\n",
       "      <td>...</td>\n",
       "      <td>...</td>\n",
       "    </tr>\n",
       "    <tr>\n",
       "      <th>2016-12-26</th>\n",
       "      <td>2016-12-26</td>\n",
       "      <td>2723.50</td>\n",
       "    </tr>\n",
       "    <tr>\n",
       "      <th>2016-12-27</th>\n",
       "      <td>2016-12-27</td>\n",
       "      <td>2701.75</td>\n",
       "    </tr>\n",
       "    <tr>\n",
       "      <th>2016-12-28</th>\n",
       "      <td>2016-12-28</td>\n",
       "      <td>2702.15</td>\n",
       "    </tr>\n",
       "    <tr>\n",
       "      <th>2016-12-29</th>\n",
       "      <td>2016-12-29</td>\n",
       "      <td>2727.90</td>\n",
       "    </tr>\n",
       "    <tr>\n",
       "      <th>2016-12-30</th>\n",
       "      <td>2016-12-30</td>\n",
       "      <td>2729.80</td>\n",
       "    </tr>\n",
       "  </tbody>\n",
       "</table>\n",
       "<p>1739 rows × 2 columns</p>\n",
       "</div>"
      ],
      "text/plain": [
       "                 Date    Close\n",
       "Date                          \n",
       "2010-01-04 2010-01-04  1625.65\n",
       "2010-01-05 2010-01-05  1616.80\n",
       "2010-01-06 2010-01-06  1638.50\n",
       "2010-01-07 2010-01-07  1648.70\n",
       "2010-01-08 2010-01-08  1639.80\n",
       "...               ...      ...\n",
       "2016-12-26 2016-12-26  2723.50\n",
       "2016-12-27 2016-12-27  2701.75\n",
       "2016-12-28 2016-12-28  2702.15\n",
       "2016-12-29 2016-12-29  2727.90\n",
       "2016-12-30 2016-12-30  2729.80\n",
       "\n",
       "[1739 rows x 2 columns]"
      ]
     },
     "execution_count": 15,
     "metadata": {},
     "output_type": "execute_result"
    }
   ],
   "source": [
    "glaxo= glaxo.set_index(glaxo['Date'])\n",
    "glaxo"
   ]
  },
  {
   "cell_type": "code",
   "execution_count": 16,
   "id": "2ad51080",
   "metadata": {
    "ExecuteTime": {
     "end_time": "2022-12-07T06:37:33.924913Z",
     "start_time": "2022-12-07T06:37:33.915230Z"
    }
   },
   "outputs": [],
   "source": [
    "beml= beml.set_index(beml['Date'])"
   ]
  },
  {
   "cell_type": "code",
   "execution_count": 17,
   "id": "7be3d198",
   "metadata": {
    "ExecuteTime": {
     "end_time": "2022-12-07T06:37:33.967479Z",
     "start_time": "2022-12-07T06:37:33.930509Z"
    }
   },
   "outputs": [
    {
     "data": {
      "text/html": [
       "<div>\n",
       "<style scoped>\n",
       "    .dataframe tbody tr th:only-of-type {\n",
       "        vertical-align: middle;\n",
       "    }\n",
       "\n",
       "    .dataframe tbody tr th {\n",
       "        vertical-align: top;\n",
       "    }\n",
       "\n",
       "    .dataframe thead th {\n",
       "        text-align: right;\n",
       "    }\n",
       "</style>\n",
       "<table border=\"1\" class=\"dataframe\">\n",
       "  <thead>\n",
       "    <tr style=\"text-align: right;\">\n",
       "      <th></th>\n",
       "      <th>Date</th>\n",
       "      <th>Close</th>\n",
       "    </tr>\n",
       "    <tr>\n",
       "      <th>Date</th>\n",
       "      <th></th>\n",
       "      <th></th>\n",
       "    </tr>\n",
       "  </thead>\n",
       "  <tbody>\n",
       "    <tr>\n",
       "      <th>2010-01-04</th>\n",
       "      <td>2010-01-04</td>\n",
       "      <td>1135.60</td>\n",
       "    </tr>\n",
       "    <tr>\n",
       "      <th>2010-01-05</th>\n",
       "      <td>2010-01-05</td>\n",
       "      <td>1134.60</td>\n",
       "    </tr>\n",
       "    <tr>\n",
       "      <th>2010-01-06</th>\n",
       "      <td>2010-01-06</td>\n",
       "      <td>1139.60</td>\n",
       "    </tr>\n",
       "    <tr>\n",
       "      <th>2010-01-07</th>\n",
       "      <td>2010-01-07</td>\n",
       "      <td>1144.15</td>\n",
       "    </tr>\n",
       "    <tr>\n",
       "      <th>2010-01-08</th>\n",
       "      <td>2010-01-08</td>\n",
       "      <td>1144.05</td>\n",
       "    </tr>\n",
       "    <tr>\n",
       "      <th>...</th>\n",
       "      <td>...</td>\n",
       "      <td>...</td>\n",
       "    </tr>\n",
       "    <tr>\n",
       "      <th>2016-12-26</th>\n",
       "      <td>2016-12-26</td>\n",
       "      <td>950.25</td>\n",
       "    </tr>\n",
       "    <tr>\n",
       "      <th>2016-12-27</th>\n",
       "      <td>2016-12-27</td>\n",
       "      <td>975.70</td>\n",
       "    </tr>\n",
       "    <tr>\n",
       "      <th>2016-12-28</th>\n",
       "      <td>2016-12-28</td>\n",
       "      <td>974.40</td>\n",
       "    </tr>\n",
       "    <tr>\n",
       "      <th>2016-12-29</th>\n",
       "      <td>2016-12-29</td>\n",
       "      <td>986.05</td>\n",
       "    </tr>\n",
       "    <tr>\n",
       "      <th>2016-12-30</th>\n",
       "      <td>2016-12-30</td>\n",
       "      <td>1000.60</td>\n",
       "    </tr>\n",
       "  </tbody>\n",
       "</table>\n",
       "<p>1739 rows × 2 columns</p>\n",
       "</div>"
      ],
      "text/plain": [
       "                 Date    Close\n",
       "Date                          \n",
       "2010-01-04 2010-01-04  1135.60\n",
       "2010-01-05 2010-01-05  1134.60\n",
       "2010-01-06 2010-01-06  1139.60\n",
       "2010-01-07 2010-01-07  1144.15\n",
       "2010-01-08 2010-01-08  1144.05\n",
       "...               ...      ...\n",
       "2016-12-26 2016-12-26   950.25\n",
       "2016-12-27 2016-12-27   975.70\n",
       "2016-12-28 2016-12-28   974.40\n",
       "2016-12-29 2016-12-29   986.05\n",
       "2016-12-30 2016-12-30  1000.60\n",
       "\n",
       "[1739 rows x 2 columns]"
      ]
     },
     "execution_count": 17,
     "metadata": {},
     "output_type": "execute_result"
    }
   ],
   "source": [
    "beml"
   ]
  },
  {
   "cell_type": "code",
   "execution_count": 18,
   "id": "e79de463",
   "metadata": {
    "ExecuteTime": {
     "end_time": "2022-12-07T06:37:33.982909Z",
     "start_time": "2022-12-07T06:37:33.972593Z"
    }
   },
   "outputs": [],
   "source": [
    "glaxo.drop(columns=['Date'],inplace=True)"
   ]
  },
  {
   "cell_type": "code",
   "execution_count": 19,
   "id": "86426efc",
   "metadata": {
    "ExecuteTime": {
     "end_time": "2022-12-07T06:37:34.016524Z",
     "start_time": "2022-12-07T06:37:33.994559Z"
    }
   },
   "outputs": [],
   "source": [
    "beml.drop(columns=['Date'],inplace=True)"
   ]
  },
  {
   "cell_type": "code",
   "execution_count": 20,
   "id": "5d5115f7",
   "metadata": {
    "ExecuteTime": {
     "end_time": "2022-12-07T06:37:34.050536Z",
     "start_time": "2022-12-07T06:37:34.022085Z"
    }
   },
   "outputs": [
    {
     "data": {
      "text/html": [
       "<div>\n",
       "<style scoped>\n",
       "    .dataframe tbody tr th:only-of-type {\n",
       "        vertical-align: middle;\n",
       "    }\n",
       "\n",
       "    .dataframe tbody tr th {\n",
       "        vertical-align: top;\n",
       "    }\n",
       "\n",
       "    .dataframe thead th {\n",
       "        text-align: right;\n",
       "    }\n",
       "</style>\n",
       "<table border=\"1\" class=\"dataframe\">\n",
       "  <thead>\n",
       "    <tr style=\"text-align: right;\">\n",
       "      <th></th>\n",
       "      <th>Close</th>\n",
       "    </tr>\n",
       "    <tr>\n",
       "      <th>Date</th>\n",
       "      <th></th>\n",
       "    </tr>\n",
       "  </thead>\n",
       "  <tbody>\n",
       "    <tr>\n",
       "      <th>2010-01-04</th>\n",
       "      <td>1625.65</td>\n",
       "    </tr>\n",
       "    <tr>\n",
       "      <th>2010-01-05</th>\n",
       "      <td>1616.80</td>\n",
       "    </tr>\n",
       "    <tr>\n",
       "      <th>2010-01-06</th>\n",
       "      <td>1638.50</td>\n",
       "    </tr>\n",
       "    <tr>\n",
       "      <th>2010-01-07</th>\n",
       "      <td>1648.70</td>\n",
       "    </tr>\n",
       "    <tr>\n",
       "      <th>2010-01-08</th>\n",
       "      <td>1639.80</td>\n",
       "    </tr>\n",
       "    <tr>\n",
       "      <th>...</th>\n",
       "      <td>...</td>\n",
       "    </tr>\n",
       "    <tr>\n",
       "      <th>2016-12-26</th>\n",
       "      <td>2723.50</td>\n",
       "    </tr>\n",
       "    <tr>\n",
       "      <th>2016-12-27</th>\n",
       "      <td>2701.75</td>\n",
       "    </tr>\n",
       "    <tr>\n",
       "      <th>2016-12-28</th>\n",
       "      <td>2702.15</td>\n",
       "    </tr>\n",
       "    <tr>\n",
       "      <th>2016-12-29</th>\n",
       "      <td>2727.90</td>\n",
       "    </tr>\n",
       "    <tr>\n",
       "      <th>2016-12-30</th>\n",
       "      <td>2729.80</td>\n",
       "    </tr>\n",
       "  </tbody>\n",
       "</table>\n",
       "<p>1739 rows × 1 columns</p>\n",
       "</div>"
      ],
      "text/plain": [
       "              Close\n",
       "Date               \n",
       "2010-01-04  1625.65\n",
       "2010-01-05  1616.80\n",
       "2010-01-06  1638.50\n",
       "2010-01-07  1648.70\n",
       "2010-01-08  1639.80\n",
       "...             ...\n",
       "2016-12-26  2723.50\n",
       "2016-12-27  2701.75\n",
       "2016-12-28  2702.15\n",
       "2016-12-29  2727.90\n",
       "2016-12-30  2729.80\n",
       "\n",
       "[1739 rows x 1 columns]"
      ]
     },
     "execution_count": 20,
     "metadata": {},
     "output_type": "execute_result"
    }
   ],
   "source": [
    "glaxo"
   ]
  },
  {
   "cell_type": "code",
   "execution_count": 21,
   "id": "e259c0d6",
   "metadata": {
    "ExecuteTime": {
     "end_time": "2022-12-07T06:37:34.078012Z",
     "start_time": "2022-12-07T06:37:34.059487Z"
    }
   },
   "outputs": [
    {
     "data": {
      "text/plain": [
       "Index(['Close'], dtype='object')"
      ]
     },
     "execution_count": 21,
     "metadata": {},
     "output_type": "execute_result"
    }
   ],
   "source": [
    "beml.columns"
   ]
  },
  {
   "cell_type": "code",
   "execution_count": 22,
   "id": "fe81907c",
   "metadata": {
    "ExecuteTime": {
     "end_time": "2022-12-07T06:37:34.099652Z",
     "start_time": "2022-12-07T06:37:34.090172Z"
    }
   },
   "outputs": [],
   "source": [
    "#Plot closing value for both Glaxo and BEML"
   ]
  },
  {
   "cell_type": "code",
   "execution_count": 23,
   "id": "b1899e2a",
   "metadata": {
    "ExecuteTime": {
     "end_time": "2022-12-07T06:37:34.568806Z",
     "start_time": "2022-12-07T06:37:34.104635Z"
    }
   },
   "outputs": [
    {
     "data": {
      "text/plain": [
       "Text(0, 0.5, 'Close')"
      ]
     },
     "execution_count": 23,
     "metadata": {},
     "output_type": "execute_result"
    },
    {
     "data": {
      "image/png": "[encoded data removed]",
      "text/plain": [
       "<Figure size 1000x500 with 1 Axes>"
      ]
     },
     "metadata": {},
     "output_type": "display_data"
    }
   ],
   "source": [
    "sns.set_style('darkgrid')\n",
    "plt.rcParams['figure.figsize']=(10,5)\n",
    "plt.rcParams['figure.dpi']= 100\n",
    "plt.plot(glaxo['Close'])\n",
    "plt.xlabel('Time')\n",
    "plt.ylabel('Close')"
   ]
  },
  {
   "cell_type": "code",
   "execution_count": 24,
   "id": "7941bf05",
   "metadata": {
    "ExecuteTime": {
     "end_time": "2022-12-07T06:37:35.026606Z",
     "start_time": "2022-12-07T06:37:34.574910Z"
    }
   },
   "outputs": [
    {
     "data": {
      "text/plain": [
       "Text(0, 0.5, 'Close')"
      ]
     },
     "execution_count": 24,
     "metadata": {},
     "output_type": "execute_result"
    },
    {
     "data": {
      "image/png": "[encoded data removed]",
      "text/plain": [
       "<Figure size 1000x500 with 1 Axes>"
      ]
     },
     "metadata": {},
     "output_type": "display_data"
    }
   ],
   "source": [
    "plt.plot(beml['Close'])\n",
    "plt.xlabel('Time')\n",
    "plt.ylabel('Close')"
   ]
  },
  {
   "cell_type": "code",
   "execution_count": 25,
   "id": "c8f9fed3",
   "metadata": {
    "ExecuteTime": {
     "end_time": "2022-12-07T06:37:35.043842Z",
     "start_time": "2022-12-07T06:37:35.033478Z"
    }
   },
   "outputs": [],
   "source": [
    "#Calculate gains"
   ]
  },
  {
   "cell_type": "code",
   "execution_count": 26,
   "id": "d6d297ff",
   "metadata": {
    "ExecuteTime": {
     "end_time": "2022-12-07T06:37:35.070464Z",
     "start_time": "2022-12-07T06:37:35.055922Z"
    }
   },
   "outputs": [],
   "source": [
    "glaxo['gain']= glaxo['Close'].pct_change(periods=1)\n",
    "beml['gain'] = beml['Close'].pct_change(periods=1)"
   ]
  },
  {
   "cell_type": "code",
   "execution_count": 27,
   "id": "1fe495e4",
   "metadata": {
    "ExecuteTime": {
     "end_time": "2022-12-07T06:37:35.105276Z",
     "start_time": "2022-12-07T06:37:35.082571Z"
    }
   },
   "outputs": [
    {
     "data": {
      "text/html": [
       "<div>\n",
       "<style scoped>\n",
       "    .dataframe tbody tr th:only-of-type {\n",
       "        vertical-align: middle;\n",
       "    }\n",
       "\n",
       "    .dataframe tbody tr th {\n",
       "        vertical-align: top;\n",
       "    }\n",
       "\n",
       "    .dataframe thead th {\n",
       "        text-align: right;\n",
       "    }\n",
       "</style>\n",
       "<table border=\"1\" class=\"dataframe\">\n",
       "  <thead>\n",
       "    <tr style=\"text-align: right;\">\n",
       "      <th></th>\n",
       "      <th>Close</th>\n",
       "      <th>gain</th>\n",
       "    </tr>\n",
       "    <tr>\n",
       "      <th>Date</th>\n",
       "      <th></th>\n",
       "      <th></th>\n",
       "    </tr>\n",
       "  </thead>\n",
       "  <tbody>\n",
       "    <tr>\n",
       "      <th>2010-01-04</th>\n",
       "      <td>1625.65</td>\n",
       "      <td>NaN</td>\n",
       "    </tr>\n",
       "    <tr>\n",
       "      <th>2010-01-05</th>\n",
       "      <td>1616.80</td>\n",
       "      <td>-0.005444</td>\n",
       "    </tr>\n",
       "    <tr>\n",
       "      <th>2010-01-06</th>\n",
       "      <td>1638.50</td>\n",
       "      <td>0.013422</td>\n",
       "    </tr>\n",
       "    <tr>\n",
       "      <th>2010-01-07</th>\n",
       "      <td>1648.70</td>\n",
       "      <td>0.006225</td>\n",
       "    </tr>\n",
       "    <tr>\n",
       "      <th>2010-01-08</th>\n",
       "      <td>1639.80</td>\n",
       "      <td>-0.005398</td>\n",
       "    </tr>\n",
       "    <tr>\n",
       "      <th>...</th>\n",
       "      <td>...</td>\n",
       "      <td>...</td>\n",
       "    </tr>\n",
       "    <tr>\n",
       "      <th>2016-12-26</th>\n",
       "      <td>2723.50</td>\n",
       "      <td>-0.001283</td>\n",
       "    </tr>\n",
       "    <tr>\n",
       "      <th>2016-12-27</th>\n",
       "      <td>2701.75</td>\n",
       "      <td>-0.007986</td>\n",
       "    </tr>\n",
       "    <tr>\n",
       "      <th>2016-12-28</th>\n",
       "      <td>2702.15</td>\n",
       "      <td>0.000148</td>\n",
       "    </tr>\n",
       "    <tr>\n",
       "      <th>2016-12-29</th>\n",
       "      <td>2727.90</td>\n",
       "      <td>0.009529</td>\n",
       "    </tr>\n",
       "    <tr>\n",
       "      <th>2016-12-30</th>\n",
       "      <td>2729.80</td>\n",
       "      <td>0.000697</td>\n",
       "    </tr>\n",
       "  </tbody>\n",
       "</table>\n",
       "<p>1739 rows × 2 columns</p>\n",
       "</div>"
      ],
      "text/plain": [
       "              Close      gain\n",
       "Date                         \n",
       "2010-01-04  1625.65       NaN\n",
       "2010-01-05  1616.80 -0.005444\n",
       "2010-01-06  1638.50  0.013422\n",
       "2010-01-07  1648.70  0.006225\n",
       "2010-01-08  1639.80 -0.005398\n",
       "...             ...       ...\n",
       "2016-12-26  2723.50 -0.001283\n",
       "2016-12-27  2701.75 -0.007986\n",
       "2016-12-28  2702.15  0.000148\n",
       "2016-12-29  2727.90  0.009529\n",
       "2016-12-30  2729.80  0.000697\n",
       "\n",
       "[1739 rows x 2 columns]"
      ]
     },
     "execution_count": 27,
     "metadata": {},
     "output_type": "execute_result"
    }
   ],
   "source": [
    "glaxo"
   ]
  },
  {
   "cell_type": "code",
   "execution_count": 28,
   "id": "284a4883",
   "metadata": {
    "ExecuteTime": {
     "end_time": "2022-12-07T06:37:35.153352Z",
     "start_time": "2022-12-07T06:37:35.130509Z"
    }
   },
   "outputs": [
    {
     "data": {
      "text/html": [
       "<div>\n",
       "<style scoped>\n",
       "    .dataframe tbody tr th:only-of-type {\n",
       "        vertical-align: middle;\n",
       "    }\n",
       "\n",
       "    .dataframe tbody tr th {\n",
       "        vertical-align: top;\n",
       "    }\n",
       "\n",
       "    .dataframe thead th {\n",
       "        text-align: right;\n",
       "    }\n",
       "</style>\n",
       "<table border=\"1\" class=\"dataframe\">\n",
       "  <thead>\n",
       "    <tr style=\"text-align: right;\">\n",
       "      <th></th>\n",
       "      <th>Close</th>\n",
       "      <th>gain</th>\n",
       "    </tr>\n",
       "    <tr>\n",
       "      <th>Date</th>\n",
       "      <th></th>\n",
       "      <th></th>\n",
       "    </tr>\n",
       "  </thead>\n",
       "  <tbody>\n",
       "    <tr>\n",
       "      <th>2010-01-04</th>\n",
       "      <td>1135.60</td>\n",
       "      <td>NaN</td>\n",
       "    </tr>\n",
       "    <tr>\n",
       "      <th>2010-01-05</th>\n",
       "      <td>1134.60</td>\n",
       "      <td>-0.000881</td>\n",
       "    </tr>\n",
       "    <tr>\n",
       "      <th>2010-01-06</th>\n",
       "      <td>1139.60</td>\n",
       "      <td>0.004407</td>\n",
       "    </tr>\n",
       "    <tr>\n",
       "      <th>2010-01-07</th>\n",
       "      <td>1144.15</td>\n",
       "      <td>0.003993</td>\n",
       "    </tr>\n",
       "    <tr>\n",
       "      <th>2010-01-08</th>\n",
       "      <td>1144.05</td>\n",
       "      <td>-0.000087</td>\n",
       "    </tr>\n",
       "    <tr>\n",
       "      <th>...</th>\n",
       "      <td>...</td>\n",
       "      <td>...</td>\n",
       "    </tr>\n",
       "    <tr>\n",
       "      <th>2016-12-26</th>\n",
       "      <td>950.25</td>\n",
       "      <td>-0.021924</td>\n",
       "    </tr>\n",
       "    <tr>\n",
       "      <th>2016-12-27</th>\n",
       "      <td>975.70</td>\n",
       "      <td>0.026782</td>\n",
       "    </tr>\n",
       "    <tr>\n",
       "      <th>2016-12-28</th>\n",
       "      <td>974.40</td>\n",
       "      <td>-0.001332</td>\n",
       "    </tr>\n",
       "    <tr>\n",
       "      <th>2016-12-29</th>\n",
       "      <td>986.05</td>\n",
       "      <td>0.011956</td>\n",
       "    </tr>\n",
       "    <tr>\n",
       "      <th>2016-12-30</th>\n",
       "      <td>1000.60</td>\n",
       "      <td>0.014756</td>\n",
       "    </tr>\n",
       "  </tbody>\n",
       "</table>\n",
       "<p>1739 rows × 2 columns</p>\n",
       "</div>"
      ],
      "text/plain": [
       "              Close      gain\n",
       "Date                         \n",
       "2010-01-04  1135.60       NaN\n",
       "2010-01-05  1134.60 -0.000881\n",
       "2010-01-06  1139.60  0.004407\n",
       "2010-01-07  1144.15  0.003993\n",
       "2010-01-08  1144.05 -0.000087\n",
       "...             ...       ...\n",
       "2016-12-26   950.25 -0.021924\n",
       "2016-12-27   975.70  0.026782\n",
       "2016-12-28   974.40 -0.001332\n",
       "2016-12-29   986.05  0.011956\n",
       "2016-12-30  1000.60  0.014756\n",
       "\n",
       "[1739 rows x 2 columns]"
      ]
     },
     "execution_count": 28,
     "metadata": {},
     "output_type": "execute_result"
    }
   ],
   "source": [
    "beml"
   ]
  },
  {
   "cell_type": "code",
   "execution_count": 29,
   "id": "3d1af758",
   "metadata": {
    "ExecuteTime": {
     "end_time": "2022-12-07T06:37:35.168690Z",
     "start_time": "2022-12-07T06:37:35.163039Z"
    }
   },
   "outputs": [],
   "source": [
    "#Drop Null records"
   ]
  },
  {
   "cell_type": "code",
   "execution_count": 30,
   "id": "f4b5316f",
   "metadata": {
    "ExecuteTime": {
     "end_time": "2022-12-07T06:37:35.193651Z",
     "start_time": "2022-12-07T06:37:35.177311Z"
    }
   },
   "outputs": [],
   "source": [
    "glaxo.dropna(inplace=True)\n",
    "beml.dropna(inplace=True)"
   ]
  },
  {
   "cell_type": "code",
   "execution_count": 31,
   "id": "dfa5691a",
   "metadata": {
    "ExecuteTime": {
     "end_time": "2022-12-07T06:37:35.235065Z",
     "start_time": "2022-12-07T06:37:35.199194Z"
    }
   },
   "outputs": [
    {
     "data": {
      "text/html": [
       "<div>\n",
       "<style scoped>\n",
       "    .dataframe tbody tr th:only-of-type {\n",
       "        vertical-align: middle;\n",
       "    }\n",
       "\n",
       "    .dataframe tbody tr th {\n",
       "        vertical-align: top;\n",
       "    }\n",
       "\n",
       "    .dataframe thead th {\n",
       "        text-align: right;\n",
       "    }\n",
       "</style>\n",
       "<table border=\"1\" class=\"dataframe\">\n",
       "  <thead>\n",
       "    <tr style=\"text-align: right;\">\n",
       "      <th></th>\n",
       "      <th>Close</th>\n",
       "      <th>gain</th>\n",
       "    </tr>\n",
       "    <tr>\n",
       "      <th>Date</th>\n",
       "      <th></th>\n",
       "      <th></th>\n",
       "    </tr>\n",
       "  </thead>\n",
       "  <tbody>\n",
       "    <tr>\n",
       "      <th>2010-01-05</th>\n",
       "      <td>1616.80</td>\n",
       "      <td>-0.005444</td>\n",
       "    </tr>\n",
       "    <tr>\n",
       "      <th>2010-01-06</th>\n",
       "      <td>1638.50</td>\n",
       "      <td>0.013422</td>\n",
       "    </tr>\n",
       "    <tr>\n",
       "      <th>2010-01-07</th>\n",
       "      <td>1648.70</td>\n",
       "      <td>0.006225</td>\n",
       "    </tr>\n",
       "    <tr>\n",
       "      <th>2010-01-08</th>\n",
       "      <td>1639.80</td>\n",
       "      <td>-0.005398</td>\n",
       "    </tr>\n",
       "    <tr>\n",
       "      <th>2010-01-11</th>\n",
       "      <td>1629.45</td>\n",
       "      <td>-0.006312</td>\n",
       "    </tr>\n",
       "  </tbody>\n",
       "</table>\n",
       "</div>"
      ],
      "text/plain": [
       "              Close      gain\n",
       "Date                         \n",
       "2010-01-05  1616.80 -0.005444\n",
       "2010-01-06  1638.50  0.013422\n",
       "2010-01-07  1648.70  0.006225\n",
       "2010-01-08  1639.80 -0.005398\n",
       "2010-01-11  1629.45 -0.006312"
      ]
     },
     "execution_count": 31,
     "metadata": {},
     "output_type": "execute_result"
    }
   ],
   "source": [
    "glaxo.head()"
   ]
  },
  {
   "cell_type": "code",
   "execution_count": 32,
   "id": "f3e93d54",
   "metadata": {
    "ExecuteTime": {
     "end_time": "2022-12-07T06:37:35.267029Z",
     "start_time": "2022-12-07T06:37:35.241603Z"
    }
   },
   "outputs": [
    {
     "data": {
      "text/html": [
       "<div>\n",
       "<style scoped>\n",
       "    .dataframe tbody tr th:only-of-type {\n",
       "        vertical-align: middle;\n",
       "    }\n",
       "\n",
       "    .dataframe tbody tr th {\n",
       "        vertical-align: top;\n",
       "    }\n",
       "\n",
       "    .dataframe thead th {\n",
       "        text-align: right;\n",
       "    }\n",
       "</style>\n",
       "<table border=\"1\" class=\"dataframe\">\n",
       "  <thead>\n",
       "    <tr style=\"text-align: right;\">\n",
       "      <th></th>\n",
       "      <th>Close</th>\n",
       "      <th>gain</th>\n",
       "    </tr>\n",
       "    <tr>\n",
       "      <th>Date</th>\n",
       "      <th></th>\n",
       "      <th></th>\n",
       "    </tr>\n",
       "  </thead>\n",
       "  <tbody>\n",
       "    <tr>\n",
       "      <th>2010-01-05</th>\n",
       "      <td>1134.60</td>\n",
       "      <td>-0.000881</td>\n",
       "    </tr>\n",
       "    <tr>\n",
       "      <th>2010-01-06</th>\n",
       "      <td>1139.60</td>\n",
       "      <td>0.004407</td>\n",
       "    </tr>\n",
       "    <tr>\n",
       "      <th>2010-01-07</th>\n",
       "      <td>1144.15</td>\n",
       "      <td>0.003993</td>\n",
       "    </tr>\n",
       "    <tr>\n",
       "      <th>2010-01-08</th>\n",
       "      <td>1144.05</td>\n",
       "      <td>-0.000087</td>\n",
       "    </tr>\n",
       "    <tr>\n",
       "      <th>2010-01-11</th>\n",
       "      <td>1137.00</td>\n",
       "      <td>-0.006162</td>\n",
       "    </tr>\n",
       "  </tbody>\n",
       "</table>\n",
       "</div>"
      ],
      "text/plain": [
       "              Close      gain\n",
       "Date                         \n",
       "2010-01-05  1134.60 -0.000881\n",
       "2010-01-06  1139.60  0.004407\n",
       "2010-01-07  1144.15  0.003993\n",
       "2010-01-08  1144.05 -0.000087\n",
       "2010-01-11  1137.00 -0.006162"
      ]
     },
     "execution_count": 32,
     "metadata": {},
     "output_type": "execute_result"
    }
   ],
   "source": [
    "beml.head()"
   ]
  },
  {
   "cell_type": "code",
   "execution_count": 33,
   "id": "39cdebff",
   "metadata": {
    "ExecuteTime": {
     "end_time": "2022-12-07T06:37:35.286323Z",
     "start_time": "2022-12-07T06:37:35.271163Z"
    }
   },
   "outputs": [],
   "source": [
    "#Plot gain values"
   ]
  },
  {
   "cell_type": "code",
   "execution_count": 56,
   "id": "e43a7376",
   "metadata": {
    "ExecuteTime": {
     "end_time": "2022-12-08T06:35:09.194444Z",
     "start_time": "2022-12-08T06:35:08.806711Z"
    }
   },
   "outputs": [
    {
     "data": {
      "text/plain": [
       "<matplotlib.legend.Legend at 0x7fdcfbdfed60>"
      ]
     },
     "execution_count": 56,
     "metadata": {},
     "output_type": "execute_result"
    },
    {
     "data": {
      "image/png": "[encoded data removed]",
      "text/plain": [
       "<Figure size 1000x500 with 1 Axes>"
      ]
     },
     "metadata": {},
     "output_type": "display_data"
    }
   ],
   "source": [
    "plt.plot(glaxo['gain'])\n",
    "plt.axhline(glaxo['gain'].mean(),color='r')\n",
    "plt.xlabel('Time')\n",
    "plt.ylabel('Gain')\n",
    "plt.legend('GLAXO')"
   ]
  },
  {
   "cell_type": "code",
   "execution_count": 35,
   "id": "4fd40966",
   "metadata": {
    "ExecuteTime": {
     "end_time": "2022-12-07T06:37:36.119601Z",
     "start_time": "2022-12-07T06:37:35.717905Z"
    }
   },
   "outputs": [
    {
     "data": {
      "text/plain": [
       "Text(0, 0.5, 'Gain')"
      ]
     },
     "execution_count": 35,
     "metadata": {},
     "output_type": "execute_result"
    },
    {
     "data": {
      "image/png": "[encoded data removed]",
      "text/plain": [
       "<Figure size 1000x500 with 1 Axes>"
      ]
     },
     "metadata": {},
     "output_type": "display_data"
    }
   ],
   "source": [
    "plt.plot(beml['gain'])\n",
    "plt.axhline(beml['gain'].mean(),color='y')\n",
    "plt.xlabel('Time')\n",
    "plt.ylabel('Gain')"
   ]
  },
  {
   "cell_type": "code",
   "execution_count": 36,
   "id": "1bbef1a4",
   "metadata": {
    "ExecuteTime": {
     "end_time": "2022-12-07T06:37:36.135336Z",
     "start_time": "2022-12-07T06:37:36.126501Z"
    }
   },
   "outputs": [],
   "source": [
    "#Subplot for distribution of BEML and GLAXO"
   ]
  },
  {
   "cell_type": "code",
   "execution_count": 51,
   "id": "93ab4622",
   "metadata": {
    "ExecuteTime": {
     "end_time": "2022-12-08T04:33:05.809686Z",
     "start_time": "2022-12-08T04:33:04.692111Z"
    }
   },
   "outputs": [
    {
     "data": {
      "text/plain": [
       "Text(0.5, 1.0, 'Distribution Graph')"
      ]
     },
     "execution_count": 51,
     "metadata": {},
     "output_type": "execute_result"
    },
    {
     "data": {
      "image/png": "[encoded data removed]",
      "text/plain": [
       "<Figure size 1000x500 with 2 Axes>"
      ]
     },
     "metadata": {},
     "output_type": "display_data"
    }
   ],
   "source": [
    "plt.subplot(1,2,1)\n",
    "sns.distplot(glaxo['gain'],color='b')\n",
    "plt.title('Distribution Graph')\n",
    "\n",
    "plt.subplot(1,2,2)\n",
    "sns.distplot(beml['gain'],color='r', label= 'BEML')\n",
    "plt.legend()\n",
    "plt.title('Distribution Graph')"
   ]
  },
  {
   "cell_type": "code",
   "execution_count": 38,
   "id": "68480f32",
   "metadata": {
    "ExecuteTime": {
     "end_time": "2022-12-07T06:37:37.468878Z",
     "start_time": "2022-12-07T06:37:37.450478Z"
    }
   },
   "outputs": [
    {
     "data": {
      "text/plain": [
       "0.013360538552253333"
      ]
     },
     "execution_count": 38,
     "metadata": {},
     "output_type": "execute_result"
    }
   ],
   "source": [
    "glaxo['gain'].std()"
   ]
  },
  {
   "cell_type": "code",
   "execution_count": 39,
   "id": "9b93134f",
   "metadata": {
    "ExecuteTime": {
     "end_time": "2022-12-07T06:37:37.486558Z",
     "start_time": "2022-12-07T06:37:37.473030Z"
    }
   },
   "outputs": [],
   "source": [
    "#Probability of making 2% loss or higher in Glaxo"
   ]
  },
  {
   "cell_type": "code",
   "execution_count": 40,
   "id": "6edb6b97",
   "metadata": {
    "ExecuteTime": {
     "end_time": "2022-12-07T06:37:37.501288Z",
     "start_time": "2022-12-07T06:37:37.496113Z"
    }
   },
   "outputs": [],
   "source": [
    "from scipy import stats"
   ]
  },
  {
   "cell_type": "code",
   "execution_count": 41,
   "id": "afde08b0",
   "metadata": {
    "ExecuteTime": {
     "end_time": "2022-12-07T06:37:37.519401Z",
     "start_time": "2022-12-07T06:37:37.504644Z"
    }
   },
   "outputs": [
    {
     "data": {
      "text/plain": [
       "0.06253517594384148"
      ]
     },
     "execution_count": 41,
     "metadata": {},
     "output_type": "execute_result"
    }
   ],
   "source": [
    "stats.norm.cdf(-0.02,0.0004,0.0133)"
   ]
  },
  {
   "cell_type": "code",
   "execution_count": 42,
   "id": "7dec120e",
   "metadata": {
    "ExecuteTime": {
     "end_time": "2022-12-07T06:37:37.543675Z",
     "start_time": "2022-12-07T06:37:37.527174Z"
    }
   },
   "outputs": [],
   "source": [
    "#Probability of making 2% gain or higher in Glaxo"
   ]
  },
  {
   "cell_type": "code",
   "execution_count": 43,
   "id": "c0b5a4bc",
   "metadata": {
    "ExecuteTime": {
     "end_time": "2022-12-07T06:37:37.565881Z",
     "start_time": "2022-12-07T06:37:37.552429Z"
    }
   },
   "outputs": [
    {
     "data": {
      "text/plain": [
       "0.07028331802435683"
      ]
     },
     "execution_count": 43,
     "metadata": {},
     "output_type": "execute_result"
    }
   ],
   "source": [
    "1 - stats.norm.cdf(0.02,0.0004,0.0133)"
   ]
  },
  {
   "cell_type": "markdown",
   "id": "6cd46875",
   "metadata": {},
   "source": [
    "# In class exercise\n",
    "# Compute 2% loss or gain for BEML"
   ]
  },
  {
   "cell_type": "code",
   "execution_count": 44,
   "id": "b896147e",
   "metadata": {
    "ExecuteTime": {
     "end_time": "2022-12-07T06:37:37.584498Z",
     "start_time": "2022-12-07T06:37:37.571576Z"
    }
   },
   "outputs": [
    {
     "data": {
      "text/plain": [
       "0.0003"
      ]
     },
     "execution_count": 44,
     "metadata": {},
     "output_type": "execute_result"
    }
   ],
   "source": [
    "round(beml['gain'].mean(),4)"
   ]
  },
  {
   "cell_type": "code",
   "execution_count": 45,
   "id": "19550939",
   "metadata": {
    "ExecuteTime": {
     "end_time": "2022-12-07T06:37:37.612131Z",
     "start_time": "2022-12-07T06:37:37.594888Z"
    }
   },
   "outputs": [
    {
     "data": {
      "text/plain": [
       "0.0264"
      ]
     },
     "execution_count": 45,
     "metadata": {},
     "output_type": "execute_result"
    }
   ],
   "source": [
    "round(beml['gain'].std(),4)"
   ]
  },
  {
   "cell_type": "code",
   "execution_count": 46,
   "id": "99f74f96",
   "metadata": {
    "ExecuteTime": {
     "end_time": "2022-12-07T06:37:37.623084Z",
     "start_time": "2022-12-07T06:37:37.616845Z"
    }
   },
   "outputs": [],
   "source": [
    "#Probability of making 2% LOSS OR HIGHER"
   ]
  },
  {
   "cell_type": "code",
   "execution_count": 47,
   "id": "f68e41a6",
   "metadata": {
    "ExecuteTime": {
     "end_time": "2022-12-07T06:37:37.650444Z",
     "start_time": "2022-12-07T06:37:37.630948Z"
    }
   },
   "outputs": [
    {
     "data": {
      "text/plain": [
       "0.221"
      ]
     },
     "execution_count": 47,
     "metadata": {},
     "output_type": "execute_result"
    }
   ],
   "source": [
    "round(stats.norm.cdf(-0.02,0.0003,0.0264),4)"
   ]
  },
  {
   "cell_type": "code",
   "execution_count": 48,
   "id": "9a8b8ab2",
   "metadata": {
    "ExecuteTime": {
     "end_time": "2022-12-07T06:37:37.664780Z",
     "start_time": "2022-12-07T06:37:37.654537Z"
    }
   },
   "outputs": [],
   "source": [
    "#Probability of making 2% PROFIT OR HIGHER"
   ]
  },
  {
   "cell_type": "code",
   "execution_count": 49,
   "id": "248df4ce",
   "metadata": {
    "ExecuteTime": {
     "end_time": "2022-12-07T06:37:37.694945Z",
     "start_time": "2022-12-07T06:37:37.682170Z"
    }
   },
   "outputs": [
    {
     "data": {
      "text/plain": [
       "0.2278"
      ]
     },
     "execution_count": 49,
     "metadata": {},
     "output_type": "execute_result"
    }
   ],
   "source": [
    "round(1 - stats.norm.cdf(0.02,0.0003,0.0264),4)"
   ]
  },
  {
   "cell_type": "code",
   "execution_count": 54,
   "id": "9edcc6bc",
   "metadata": {
    "ExecuteTime": {
     "end_time": "2022-12-08T06:15:52.344392Z",
     "start_time": "2022-12-08T06:15:52.331604Z"
    }
   },
   "outputs": [
    {
     "data": {
      "text/plain": [
       "1.977177724476122"
      ]
     },
     "execution_count": 54,
     "metadata": {},
     "output_type": "execute_result"
    }
   ],
   "source": [
    "stats.t.ppf(0.975, 139)"
   ]
  },
  {
   "cell_type": "code",
   "execution_count": null,
   "id": "da5435b7",
   "metadata": {},
   "outputs": [],
   "source": []
  }
 ],
 "metadata": {
  "kernelspec": {
   "display_name": "Python 3 (ipykernel)",
   "language": "python",
   "name": "python3"
  },
  "language_info": {
   "codemirror_mode": {
    "name": "ipython",
    "version": 3
   },
   "file_extension": ".py",
   "mimetype": "text/x-python",
   "name": "python",
   "nbconvert_exporter": "python",
   "pygments_lexer": "ipython3",
   "version": "3.9.13"
  }
 },
 "nbformat": 4,
 "nbformat_minor": 5
}
