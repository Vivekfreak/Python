{
 "cells": [
  {
   "cell_type": "code",
   "execution_count": 1,
   "id": "237b692f",
   "metadata": {
    "ExecuteTime": {
     "end_time": "2022-11-29T05:04:29.414090Z",
     "start_time": "2022-11-29T05:04:28.082186Z"
    }
   },
   "outputs": [],
   "source": [
    "import numpy as np"
   ]
  },
  {
   "cell_type": "code",
   "execution_count": 9,
   "id": "e6bde95c",
   "metadata": {
    "ExecuteTime": {
     "end_time": "2022-11-29T05:44:54.458542Z",
     "start_time": "2022-11-29T05:44:54.445541Z"
    }
   },
   "outputs": [
    {
     "data": {
      "text/plain": [
       "numpy.ndarray"
      ]
     },
     "execution_count": 9,
     "metadata": {},
     "output_type": "execute_result"
    }
   ],
   "source": [
    "#Array creation\n",
    "\n",
    "a= np.array(10)\n",
    "a\n",
    "type(a\n",
    "    )"
   ]
  },
  {
   "cell_type": "code",
   "execution_count": 10,
   "id": "295f1320",
   "metadata": {
    "ExecuteTime": {
     "end_time": "2022-11-29T05:45:10.521359Z",
     "start_time": "2022-11-29T05:45:10.514960Z"
    }
   },
   "outputs": [],
   "source": [
    "#Zero dimensional array"
   ]
  },
  {
   "cell_type": "code",
   "execution_count": 12,
   "id": "6b46e0ef",
   "metadata": {
    "ExecuteTime": {
     "end_time": "2022-11-29T05:45:46.662530Z",
     "start_time": "2022-11-29T05:45:46.649612Z"
    }
   },
   "outputs": [
    {
     "data": {
      "text/plain": [
       "0"
      ]
     },
     "execution_count": 12,
     "metadata": {},
     "output_type": "execute_result"
    }
   ],
   "source": [
    "z=np.array(10)\n",
    "z.ndim"
   ]
  },
  {
   "cell_type": "code",
   "execution_count": 13,
   "id": "d0381aa5",
   "metadata": {
    "ExecuteTime": {
     "end_time": "2022-11-29T05:45:59.097955Z",
     "start_time": "2022-11-29T05:45:59.092976Z"
    }
   },
   "outputs": [],
   "source": [
    "#One dimensional array"
   ]
  },
  {
   "cell_type": "code",
   "execution_count": 14,
   "id": "716b09ca",
   "metadata": {
    "ExecuteTime": {
     "end_time": "2022-11-29T05:46:44.912726Z",
     "start_time": "2022-11-29T05:46:44.902986Z"
    }
   },
   "outputs": [
    {
     "data": {
      "text/plain": [
       "1"
      ]
     },
     "execution_count": 14,
     "metadata": {},
     "output_type": "execute_result"
    }
   ],
   "source": [
    "o=np.array([10,12,12,15])\n",
    "o.ndim\n",
    "            "
   ]
  },
  {
   "cell_type": "code",
   "execution_count": 15,
   "id": "3b1eb880",
   "metadata": {
    "ExecuteTime": {
     "end_time": "2022-11-29T05:47:00.450379Z",
     "start_time": "2022-11-29T05:47:00.438175Z"
    }
   },
   "outputs": [],
   "source": [
    "#Two dimensional array"
   ]
  },
  {
   "cell_type": "code",
   "execution_count": 16,
   "id": "c4e5244e",
   "metadata": {
    "ExecuteTime": {
     "end_time": "2022-11-29T05:47:26.226378Z",
     "start_time": "2022-11-29T05:47:26.219810Z"
    }
   },
   "outputs": [],
   "source": [
    "t=np.array([[10,12,14,15,16]])"
   ]
  },
  {
   "cell_type": "code",
   "execution_count": 17,
   "id": "9fa4a96c",
   "metadata": {
    "ExecuteTime": {
     "end_time": "2022-11-29T05:47:35.598079Z",
     "start_time": "2022-11-29T05:47:35.589581Z"
    }
   },
   "outputs": [
    {
     "data": {
      "text/plain": [
       "2"
      ]
     },
     "execution_count": 17,
     "metadata": {},
     "output_type": "execute_result"
    }
   ],
   "source": [
    "t.ndim"
   ]
  },
  {
   "cell_type": "code",
   "execution_count": 18,
   "id": "e84d020b",
   "metadata": {
    "ExecuteTime": {
     "end_time": "2022-11-29T05:47:51.722581Z",
     "start_time": "2022-11-29T05:47:51.716456Z"
    }
   },
   "outputs": [],
   "source": [
    "#Three dimensional array"
   ]
  },
  {
   "cell_type": "code",
   "execution_count": 19,
   "id": "57c62565",
   "metadata": {
    "ExecuteTime": {
     "end_time": "2022-11-29T05:48:14.096515Z",
     "start_time": "2022-11-29T05:48:14.090009Z"
    }
   },
   "outputs": [],
   "source": [
    "th= np.array([[[10,12,14,15,16]]])"
   ]
  },
  {
   "cell_type": "code",
   "execution_count": 20,
   "id": "fb4c0447",
   "metadata": {
    "ExecuteTime": {
     "end_time": "2022-11-29T05:48:22.303522Z",
     "start_time": "2022-11-29T05:48:22.293955Z"
    }
   },
   "outputs": [
    {
     "data": {
      "text/plain": [
       "3"
      ]
     },
     "execution_count": 20,
     "metadata": {},
     "output_type": "execute_result"
    }
   ],
   "source": [
    "th.ndim"
   ]
  },
  {
   "cell_type": "code",
   "execution_count": 21,
   "id": "3d6d725b",
   "metadata": {
    "ExecuteTime": {
     "end_time": "2022-11-29T05:48:54.654179Z",
     "start_time": "2022-11-29T05:48:54.647307Z"
    }
   },
   "outputs": [],
   "source": [
    "#Change the data type of array elements."
   ]
  },
  {
   "cell_type": "code",
   "execution_count": 22,
   "id": "870b9977",
   "metadata": {
    "ExecuteTime": {
     "end_time": "2022-11-29T05:49:18.317815Z",
     "start_time": "2022-11-29T05:49:18.310149Z"
    }
   },
   "outputs": [],
   "source": [
    "a=np.array([10,15,52,54])"
   ]
  },
  {
   "cell_type": "code",
   "execution_count": 23,
   "id": "4e0b5f90",
   "metadata": {
    "ExecuteTime": {
     "end_time": "2022-11-29T05:49:23.069900Z",
     "start_time": "2022-11-29T05:49:23.058703Z"
    }
   },
   "outputs": [
    {
     "data": {
      "text/plain": [
       "dtype('int64')"
      ]
     },
     "execution_count": 23,
     "metadata": {},
     "output_type": "execute_result"
    }
   ],
   "source": [
    "a.dtype"
   ]
  },
  {
   "cell_type": "code",
   "execution_count": 25,
   "id": "69a39376",
   "metadata": {
    "ExecuteTime": {
     "end_time": "2022-11-29T05:51:47.181198Z",
     "start_time": "2022-11-29T05:51:47.170211Z"
    }
   },
   "outputs": [
    {
     "name": "stdout",
     "output_type": "stream",
     "text": [
      "float64\n"
     ]
    },
    {
     "data": {
      "text/plain": [
       "array([10., 15., 52., 54.])"
      ]
     },
     "execution_count": 25,
     "metadata": {},
     "output_type": "execute_result"
    }
   ],
   "source": [
    "a=np.array([10,15,52,54], dtype= float)\n",
    "print(a.dtype)\n",
    "a"
   ]
  },
  {
   "cell_type": "markdown",
   "id": "933741e2",
   "metadata": {},
   "source": [
    "# Other ways of creating an array"
   ]
  },
  {
   "cell_type": "markdown",
   "id": "0de1965e",
   "metadata": {},
   "source": [
    "1. arange\n",
    "2. linspace\n",
    "3. zeros\n",
    "4. ones\n",
    "5. random"
   ]
  },
  {
   "cell_type": "code",
   "execution_count": 28,
   "id": "0081acd0",
   "metadata": {
    "ExecuteTime": {
     "end_time": "2022-11-29T05:54:18.294794Z",
     "start_time": "2022-11-29T05:54:18.284793Z"
    }
   },
   "outputs": [
    {
     "data": {
      "text/plain": [
       "array([ 1,  3,  5,  7,  9, 11, 13, 15, 17, 19])"
      ]
     },
     "execution_count": 28,
     "metadata": {},
     "output_type": "execute_result"
    }
   ],
   "source": [
    "a=np.arange(1,21,2)\n",
    "a"
   ]
  },
  {
   "cell_type": "code",
   "execution_count": 31,
   "id": "486137da",
   "metadata": {
    "ExecuteTime": {
     "end_time": "2022-11-29T05:54:55.350051Z",
     "start_time": "2022-11-29T05:54:55.330956Z"
    }
   },
   "outputs": [
    {
     "data": {
      "text/plain": [
       "(array([1.        , 1.28571429, 1.57142857, 1.85714286, 2.14285714,\n",
       "        2.42857143, 2.71428571, 3.        , 3.28571429, 3.57142857,\n",
       "        3.85714286, 4.14285714, 4.42857143, 4.71428571, 5.        ]),\n",
       " 0.2857142857142857)"
      ]
     },
     "execution_count": 31,
     "metadata": {},
     "output_type": "execute_result"
    }
   ],
   "source": [
    "b=np.linspace(1,5,15, retstep=True)\n",
    "b"
   ]
  },
  {
   "cell_type": "code",
   "execution_count": 35,
   "id": "aaf56b8c",
   "metadata": {
    "ExecuteTime": {
     "end_time": "2022-11-29T05:55:20.195231Z",
     "start_time": "2022-11-29T05:55:20.184850Z"
    }
   },
   "outputs": [
    {
     "data": {
      "text/plain": [
       "array([[0., 0.],\n",
       "       [0., 0.]])"
      ]
     },
     "execution_count": 35,
     "metadata": {},
     "output_type": "execute_result"
    }
   ],
   "source": [
    "z= np.zeros([2,2])\n",
    "z"
   ]
  },
  {
   "cell_type": "code",
   "execution_count": 37,
   "id": "176e16d3",
   "metadata": {
    "ExecuteTime": {
     "end_time": "2022-11-29T05:55:45.706002Z",
     "start_time": "2022-11-29T05:55:45.691929Z"
    }
   },
   "outputs": [
    {
     "data": {
      "text/plain": [
       "array([[1., 1., 1.],\n",
       "       [1., 1., 1.],\n",
       "       [1., 1., 1.]])"
      ]
     },
     "execution_count": 37,
     "metadata": {},
     "output_type": "execute_result"
    }
   ],
   "source": [
    "o=np.ones([3,3])\n",
    "o"
   ]
  },
  {
   "cell_type": "code",
   "execution_count": 38,
   "id": "236628c3",
   "metadata": {
    "ExecuteTime": {
     "end_time": "2022-11-29T05:56:22.822351Z",
     "start_time": "2022-11-29T05:56:22.814667Z"
    }
   },
   "outputs": [],
   "source": [
    "r= np.random.rand(5,5)"
   ]
  },
  {
   "cell_type": "code",
   "execution_count": 40,
   "id": "be5e501e",
   "metadata": {
    "ExecuteTime": {
     "end_time": "2022-11-29T05:59:33.650506Z",
     "start_time": "2022-11-29T05:59:33.641260Z"
    },
    "scrolled": true
   },
   "outputs": [
    {
     "data": {
      "text/plain": [
       "array([[0.84927789, 0.6461996 , 0.31341854, 0.07735216, 0.72388678],\n",
       "       [0.67150594, 0.99400833, 0.70231171, 0.08003665, 0.40317585],\n",
       "       [0.90068124, 0.03251726, 0.86469633, 0.06847077, 0.18964058],\n",
       "       [0.90550683, 0.53875192, 0.78841313, 0.65161426, 0.28839022],\n",
       "       [0.61866892, 0.94627673, 0.92778581, 0.62982699, 0.96566054]])"
      ]
     },
     "execution_count": 40,
     "metadata": {},
     "output_type": "execute_result"
    }
   ],
   "source": [
    "r"
   ]
  },
  {
   "cell_type": "code",
   "execution_count": 41,
   "id": "25cc28d5",
   "metadata": {
    "ExecuteTime": {
     "end_time": "2022-11-29T06:00:01.202644Z",
     "start_time": "2022-11-29T06:00:01.192791Z"
    }
   },
   "outputs": [],
   "source": [
    "r=np.random.randint(5, size=10)"
   ]
  },
  {
   "cell_type": "code",
   "execution_count": 42,
   "id": "0f1ecd07",
   "metadata": {
    "ExecuteTime": {
     "end_time": "2022-11-29T06:00:04.451032Z",
     "start_time": "2022-11-29T06:00:04.441539Z"
    }
   },
   "outputs": [
    {
     "data": {
      "text/plain": [
       "array([3, 1, 0, 2, 4, 0, 4, 0, 3, 0])"
      ]
     },
     "execution_count": 42,
     "metadata": {},
     "output_type": "execute_result"
    }
   ],
   "source": [
    "r"
   ]
  },
  {
   "cell_type": "markdown",
   "id": "70f8d2a1",
   "metadata": {},
   "source": [
    "# Slicing and Indexing of arrays"
   ]
  },
  {
   "cell_type": "code",
   "execution_count": 43,
   "id": "bfe6df5f",
   "metadata": {
    "ExecuteTime": {
     "end_time": "2022-11-29T06:01:01.291485Z",
     "start_time": "2022-11-29T06:01:01.283180Z"
    }
   },
   "outputs": [],
   "source": [
    "a=np.array([[1,2,3],[4,5,6]])"
   ]
  },
  {
   "cell_type": "code",
   "execution_count": 44,
   "id": "13e4ac39",
   "metadata": {
    "ExecuteTime": {
     "end_time": "2022-11-29T06:01:04.657707Z",
     "start_time": "2022-11-29T06:01:04.646267Z"
    }
   },
   "outputs": [
    {
     "data": {
      "text/plain": [
       "array([[1, 2, 3],\n",
       "       [4, 5, 6]])"
      ]
     },
     "execution_count": 44,
     "metadata": {},
     "output_type": "execute_result"
    }
   ],
   "source": [
    "a"
   ]
  },
  {
   "cell_type": "code",
   "execution_count": 45,
   "id": "eaaf1a81",
   "metadata": {
    "ExecuteTime": {
     "end_time": "2022-11-29T06:02:42.847376Z",
     "start_time": "2022-11-29T06:02:42.836033Z"
    }
   },
   "outputs": [
    {
     "data": {
      "text/plain": [
       "1"
      ]
     },
     "execution_count": 45,
     "metadata": {},
     "output_type": "execute_result"
    }
   ],
   "source": [
    "a[0,0]"
   ]
  },
  {
   "cell_type": "code",
   "execution_count": 46,
   "id": "68b29954",
   "metadata": {
    "ExecuteTime": {
     "end_time": "2022-11-29T06:02:55.939272Z",
     "start_time": "2022-11-29T06:02:55.930779Z"
    }
   },
   "outputs": [
    {
     "data": {
      "text/plain": [
       "2"
      ]
     },
     "execution_count": 46,
     "metadata": {},
     "output_type": "execute_result"
    }
   ],
   "source": [
    "a[0,1]"
   ]
  },
  {
   "cell_type": "code",
   "execution_count": 47,
   "id": "fe356e18",
   "metadata": {
    "ExecuteTime": {
     "end_time": "2022-11-29T06:03:09.295559Z",
     "start_time": "2022-11-29T06:03:09.284743Z"
    }
   },
   "outputs": [
    {
     "data": {
      "text/plain": [
       "5"
      ]
     },
     "execution_count": 47,
     "metadata": {},
     "output_type": "execute_result"
    }
   ],
   "source": [
    "a[1,1]"
   ]
  },
  {
   "cell_type": "code",
   "execution_count": 48,
   "id": "7ca3cc28",
   "metadata": {
    "ExecuteTime": {
     "end_time": "2022-11-29T06:03:18.504257Z",
     "start_time": "2022-11-29T06:03:18.492001Z"
    }
   },
   "outputs": [
    {
     "data": {
      "text/plain": [
       "6"
      ]
     },
     "execution_count": 48,
     "metadata": {},
     "output_type": "execute_result"
    }
   ],
   "source": [
    "a[1,2]"
   ]
  },
  {
   "cell_type": "code",
   "execution_count": 50,
   "id": "efbbcf76",
   "metadata": {
    "ExecuteTime": {
     "end_time": "2022-11-29T06:04:09.172801Z",
     "start_time": "2022-11-29T06:04:09.163271Z"
    }
   },
   "outputs": [
    {
     "data": {
      "text/plain": [
       "array([2, 3])"
      ]
     },
     "execution_count": 50,
     "metadata": {},
     "output_type": "execute_result"
    }
   ],
   "source": [
    "a[0,1:]"
   ]
  },
  {
   "cell_type": "code",
   "execution_count": 52,
   "id": "7964a1a6",
   "metadata": {
    "ExecuteTime": {
     "end_time": "2022-11-29T06:04:52.926575Z",
     "start_time": "2022-11-29T06:04:52.910789Z"
    }
   },
   "outputs": [
    {
     "data": {
      "text/plain": [
       "array([[4, 5, 6]])"
      ]
     },
     "execution_count": 52,
     "metadata": {},
     "output_type": "execute_result"
    }
   ],
   "source": [
    "a[1:,0:]"
   ]
  },
  {
   "cell_type": "code",
   "execution_count": 53,
   "id": "93fcf1ae",
   "metadata": {
    "ExecuteTime": {
     "end_time": "2022-11-29T06:05:22.053156Z",
     "start_time": "2022-11-29T06:05:22.043171Z"
    }
   },
   "outputs": [
    {
     "data": {
      "text/plain": [
       "array([[2, 3],\n",
       "       [5, 6]])"
      ]
     },
     "execution_count": 53,
     "metadata": {},
     "output_type": "execute_result"
    }
   ],
   "source": [
    "a[0:,1:]"
   ]
  },
  {
   "cell_type": "code",
   "execution_count": 54,
   "id": "28bce1be",
   "metadata": {
    "ExecuteTime": {
     "end_time": "2022-11-29T06:06:26.561670Z",
     "start_time": "2022-11-29T06:06:26.553416Z"
    }
   },
   "outputs": [
    {
     "data": {
      "text/plain": [
       "array([[1, 2, 3],\n",
       "       [4, 5, 6]])"
      ]
     },
     "execution_count": 54,
     "metadata": {},
     "output_type": "execute_result"
    }
   ],
   "source": [
    "a"
   ]
  },
  {
   "cell_type": "code",
   "execution_count": 58,
   "id": "80729e3b",
   "metadata": {
    "ExecuteTime": {
     "end_time": "2022-11-29T06:08:22.751894Z",
     "start_time": "2022-11-29T06:08:22.741787Z"
    }
   },
   "outputs": [
    {
     "data": {
      "text/plain": [
       "array([1, 6])"
      ]
     },
     "execution_count": 58,
     "metadata": {},
     "output_type": "execute_result"
    }
   ],
   "source": [
    "#1 and 6\n",
    "a[[0,1],[0,2]]"
   ]
  },
  {
   "cell_type": "code",
   "execution_count": 60,
   "id": "64f003b9",
   "metadata": {
    "ExecuteTime": {
     "end_time": "2022-11-29T06:09:32.566116Z",
     "start_time": "2022-11-29T06:09:32.557676Z"
    }
   },
   "outputs": [
    {
     "data": {
      "text/plain": [
       "array([3, 4])"
      ]
     },
     "execution_count": 60,
     "metadata": {},
     "output_type": "execute_result"
    }
   ],
   "source": [
    "#3 and 4\n",
    "a[[0,1],[2,0]]"
   ]
  },
  {
   "cell_type": "markdown",
   "id": "5854be92",
   "metadata": {},
   "source": [
    "# Reshaping the arrays\n"
   ]
  },
  {
   "cell_type": "code",
   "execution_count": 61,
   "id": "9e09b484",
   "metadata": {
    "ExecuteTime": {
     "end_time": "2022-11-29T06:10:08.273443Z",
     "start_time": "2022-11-29T06:10:08.266496Z"
    }
   },
   "outputs": [],
   "source": [
    "a=np.random.rand(5,2)"
   ]
  },
  {
   "cell_type": "code",
   "execution_count": 62,
   "id": "2d012084",
   "metadata": {
    "ExecuteTime": {
     "end_time": "2022-11-29T06:10:13.074777Z",
     "start_time": "2022-11-29T06:10:13.063338Z"
    }
   },
   "outputs": [
    {
     "data": {
      "text/plain": [
       "array([[0.05810274, 0.09905351],\n",
       "       [0.52816841, 0.35136875],\n",
       "       [0.40173328, 0.66473648],\n",
       "       [0.96547631, 0.35347739],\n",
       "       [0.79806688, 0.56060526]])"
      ]
     },
     "execution_count": 62,
     "metadata": {},
     "output_type": "execute_result"
    }
   ],
   "source": [
    "a"
   ]
  },
  {
   "cell_type": "code",
   "execution_count": 63,
   "id": "84b68973",
   "metadata": {
    "ExecuteTime": {
     "end_time": "2022-11-29T06:10:20.471036Z",
     "start_time": "2022-11-29T06:10:20.460526Z"
    }
   },
   "outputs": [
    {
     "data": {
      "text/plain": [
       "array([[0.05810274, 0.09905351, 0.52816841, 0.35136875, 0.40173328],\n",
       "       [0.66473648, 0.96547631, 0.35347739, 0.79806688, 0.56060526]])"
      ]
     },
     "execution_count": 63,
     "metadata": {},
     "output_type": "execute_result"
    }
   ],
   "source": [
    "a.reshape(2,5)"
   ]
  },
  {
   "cell_type": "code",
   "execution_count": 64,
   "id": "417e7504",
   "metadata": {
    "ExecuteTime": {
     "end_time": "2022-11-29T06:10:59.175329Z",
     "start_time": "2022-11-29T06:10:59.164093Z"
    }
   },
   "outputs": [
    {
     "data": {
      "text/plain": [
       "array([[0.05810274],\n",
       "       [0.09905351],\n",
       "       [0.52816841],\n",
       "       [0.35136875],\n",
       "       [0.40173328],\n",
       "       [0.66473648],\n",
       "       [0.96547631],\n",
       "       [0.35347739],\n",
       "       [0.79806688],\n",
       "       [0.56060526]])"
      ]
     },
     "execution_count": 64,
     "metadata": {},
     "output_type": "execute_result"
    }
   ],
   "source": [
    "a.reshape(10,1)"
   ]
  },
  {
   "cell_type": "code",
   "execution_count": 65,
   "id": "749def11",
   "metadata": {
    "ExecuteTime": {
     "end_time": "2022-11-29T06:11:09.212323Z",
     "start_time": "2022-11-29T06:11:09.201024Z"
    }
   },
   "outputs": [
    {
     "data": {
      "text/plain": [
       "array([[0.05810274, 0.09905351],\n",
       "       [0.52816841, 0.35136875],\n",
       "       [0.40173328, 0.66473648],\n",
       "       [0.96547631, 0.35347739],\n",
       "       [0.79806688, 0.56060526]])"
      ]
     },
     "execution_count": 65,
     "metadata": {},
     "output_type": "execute_result"
    }
   ],
   "source": [
    "a.reshape(5,2)"
   ]
  },
  {
   "cell_type": "code",
   "execution_count": 70,
   "id": "308893b6",
   "metadata": {
    "ExecuteTime": {
     "end_time": "2022-11-29T06:12:51.646783Z",
     "start_time": "2022-11-29T06:12:51.636005Z"
    }
   },
   "outputs": [
    {
     "data": {
      "text/plain": [
       "array([[0.05810274, 0.09905351],\n",
       "       [0.52816841, 0.35136875],\n",
       "       [0.40173328, 0.66473648],\n",
       "       [0.96547631, 0.35347739],\n",
       "       [0.79806688, 0.56060526]])"
      ]
     },
     "execution_count": 70,
     "metadata": {},
     "output_type": "execute_result"
    }
   ],
   "source": [
    "a.reshape(1,10)\n",
    "a"
   ]
  },
  {
   "cell_type": "code",
   "execution_count": 71,
   "id": "1704f498",
   "metadata": {
    "ExecuteTime": {
     "end_time": "2022-11-29T06:13:44.268859Z",
     "start_time": "2022-11-29T06:13:44.260149Z"
    }
   },
   "outputs": [
    {
     "data": {
      "text/plain": [
       "array([[0.05810274, 0.09905351],\n",
       "       [0.52816841, 0.35136875],\n",
       "       [0.40173328, 0.66473648],\n",
       "       [0.96547631, 0.35347739],\n",
       "       [0.79806688, 0.56060526]])"
      ]
     },
     "execution_count": 71,
     "metadata": {},
     "output_type": "execute_result"
    }
   ],
   "source": [
    "a.reshape(5,-1)\n",
    "a"
   ]
  },
  {
   "cell_type": "markdown",
   "id": "2d67f496",
   "metadata": {},
   "source": [
    "# Aggregate functions\n",
    "* The Python numpy aggregate functions are sum, min, mean,average,product,nedian,standard deviation,variance,percentile and corrcoef."
   ]
  },
  {
   "cell_type": "code",
   "execution_count": 72,
   "id": "f2545fd3",
   "metadata": {
    "ExecuteTime": {
     "end_time": "2022-11-29T06:15:23.735332Z",
     "start_time": "2022-11-29T06:15:23.724297Z"
    }
   },
   "outputs": [
    {
     "data": {
      "text/plain": [
       "0.05810273618322137"
      ]
     },
     "execution_count": 72,
     "metadata": {},
     "output_type": "execute_result"
    }
   ],
   "source": [
    "a.min()"
   ]
  },
  {
   "cell_type": "code",
   "execution_count": 73,
   "id": "6447f1d6",
   "metadata": {
    "ExecuteTime": {
     "end_time": "2022-11-29T06:15:29.228480Z",
     "start_time": "2022-11-29T06:15:29.218566Z"
    }
   },
   "outputs": [
    {
     "data": {
      "text/plain": [
       "0.27231581562587714"
      ]
     },
     "execution_count": 73,
     "metadata": {},
     "output_type": "execute_result"
    }
   ],
   "source": [
    "a.std()"
   ]
  },
  {
   "cell_type": "code",
   "execution_count": 74,
   "id": "60390fc4",
   "metadata": {
    "ExecuteTime": {
     "end_time": "2022-11-29T06:15:35.903141Z",
     "start_time": "2022-11-29T06:15:35.890810Z"
    }
   },
   "outputs": [
    {
     "data": {
      "text/plain": [
       "0.47807890077960397"
      ]
     },
     "execution_count": 74,
     "metadata": {},
     "output_type": "execute_result"
    }
   ],
   "source": [
    "a.mean()"
   ]
  },
  {
   "cell_type": "code",
   "execution_count": 75,
   "id": "7c5ff5e0",
   "metadata": {
    "ExecuteTime": {
     "end_time": "2022-11-29T06:16:16.241437Z",
     "start_time": "2022-11-29T06:16:16.229738Z"
    }
   },
   "outputs": [
    {
     "data": {
      "text/plain": [
       "0.07415590343998671"
      ]
     },
     "execution_count": 75,
     "metadata": {},
     "output_type": "execute_result"
    }
   ],
   "source": [
    "a.var()"
   ]
  },
  {
   "cell_type": "markdown",
   "id": "7fa0d9ff",
   "metadata": {},
   "source": [
    "# Stacking \n",
    "Stacking is used ot join two different arrays\n",
    "* Vertical stacking\n",
    "* Horizontal stacking"
   ]
  },
  {
   "cell_type": "code",
   "execution_count": 76,
   "id": "ead1388d",
   "metadata": {
    "ExecuteTime": {
     "end_time": "2022-11-29T06:18:21.715359Z",
     "start_time": "2022-11-29T06:18:21.709021Z"
    }
   },
   "outputs": [],
   "source": [
    "a = np.array([1,2,3,4,5])\n",
    "b = np.array([4,5,6,7,8])"
   ]
  },
  {
   "cell_type": "code",
   "execution_count": 77,
   "id": "47a5280f",
   "metadata": {
    "ExecuteTime": {
     "end_time": "2022-11-29T06:18:41.853440Z",
     "start_time": "2022-11-29T06:18:41.843106Z"
    }
   },
   "outputs": [
    {
     "data": {
      "text/plain": [
       "array([1, 2, 3, 4, 5, 4, 5, 6, 7, 8])"
      ]
     },
     "execution_count": 77,
     "metadata": {},
     "output_type": "execute_result"
    }
   ],
   "source": [
    "np.hstack([a,b])"
   ]
  },
  {
   "cell_type": "code",
   "execution_count": 78,
   "id": "70133d31",
   "metadata": {
    "ExecuteTime": {
     "end_time": "2022-11-29T06:18:55.650828Z",
     "start_time": "2022-11-29T06:18:55.567944Z"
    }
   },
   "outputs": [
    {
     "data": {
      "text/plain": [
       "array([[1, 2, 3, 4, 5],\n",
       "       [4, 5, 6, 7, 8]])"
      ]
     },
     "execution_count": 78,
     "metadata": {},
     "output_type": "execute_result"
    }
   ],
   "source": [
    "np.vstack([a,b])"
   ]
  },
  {
   "cell_type": "code",
   "execution_count": null,
   "id": "d41db716",
   "metadata": {},
   "outputs": [],
   "source": []
  }
 ],
 "metadata": {
  "kernelspec": {
   "display_name": "Python 3 (ipykernel)",
   "language": "python",
   "name": "python3"
  },
  "language_info": {
   "codemirror_mode": {
    "name": "ipython",
    "version": 3
   },
   "file_extension": ".py",
   "mimetype": "text/x-python",
   "name": "python",
   "nbconvert_exporter": "python",
   "pygments_lexer": "ipython3",
   "version": "3.9.13"
  }
 },
 "nbformat": 4,
 "nbformat_minor": 5
}
