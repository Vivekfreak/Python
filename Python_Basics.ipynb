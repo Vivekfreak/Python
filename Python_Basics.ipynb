{
 "cells": [
  {
   "cell_type": "code",
   "execution_count": 1,
   "id": "0e292d97",
   "metadata": {
    "ExecuteTime": {
     "end_time": "2022-11-24T18:51:33.403694Z",
     "start_time": "2022-11-24T18:51:33.322501Z"
    }
   },
   "outputs": [
    {
     "data": {
      "text/plain": [
       "\"It's a notebook\""
      ]
     },
     "execution_count": 1,
     "metadata": {},
     "output_type": "execute_result"
    }
   ],
   "source": [
    "a= \"It's a notebook\"\n",
    "a"
   ]
  },
  {
   "cell_type": "code",
   "execution_count": 2,
   "id": "40615f80",
   "metadata": {
    "ExecuteTime": {
     "end_time": "2022-11-24T18:51:36.113981Z",
     "start_time": "2022-11-24T18:51:36.105585Z"
    }
   },
   "outputs": [],
   "source": [
    "s=  \"we are learning python\"\n"
   ]
  },
  {
   "cell_type": "code",
   "execution_count": 3,
   "id": "0d47a3d6",
   "metadata": {
    "ExecuteTime": {
     "end_time": "2022-11-24T18:51:37.368740Z",
     "start_time": "2022-11-24T18:51:37.358892Z"
    }
   },
   "outputs": [
    {
     "data": {
      "text/plain": [
       "'We are learning python'"
      ]
     },
     "execution_count": 3,
     "metadata": {},
     "output_type": "execute_result"
    }
   ],
   "source": [
    "s.capitalize()"
   ]
  },
  {
   "cell_type": "code",
   "execution_count": 4,
   "id": "765b04ff",
   "metadata": {
    "ExecuteTime": {
     "end_time": "2022-11-24T18:51:37.954828Z",
     "start_time": "2022-11-24T18:51:37.942569Z"
    }
   },
   "outputs": [
    {
     "data": {
      "text/plain": [
       "3"
      ]
     },
     "execution_count": 4,
     "metadata": {},
     "output_type": "execute_result"
    }
   ],
   "source": [
    "s.count('e')"
   ]
  },
  {
   "cell_type": "code",
   "execution_count": 5,
   "id": "5a37206b",
   "metadata": {
    "ExecuteTime": {
     "end_time": "2022-11-24T18:51:38.287864Z",
     "start_time": "2022-11-24T18:51:38.262906Z"
    }
   },
   "outputs": [
    {
     "data": {
      "text/plain": [
       "True"
      ]
     },
     "execution_count": 5,
     "metadata": {},
     "output_type": "execute_result"
    }
   ],
   "source": [
    "s.endswith('n')"
   ]
  },
  {
   "cell_type": "code",
   "execution_count": 6,
   "id": "467cfab5",
   "metadata": {
    "ExecuteTime": {
     "end_time": "2022-11-24T18:51:38.589442Z",
     "start_time": "2022-11-24T18:51:38.551701Z"
    }
   },
   "outputs": [
    {
     "data": {
      "text/plain": [
       "3"
      ]
     },
     "execution_count": 6,
     "metadata": {},
     "output_type": "execute_result"
    }
   ],
   "source": [
    "s.find('are')"
   ]
  },
  {
   "cell_type": "code",
   "execution_count": 7,
   "id": "04cc6ed7",
   "metadata": {
    "ExecuteTime": {
     "end_time": "2022-11-24T18:51:38.874956Z",
     "start_time": "2022-11-24T18:51:38.864864Z"
    }
   },
   "outputs": [
    {
     "data": {
      "text/plain": [
       "16"
      ]
     },
     "execution_count": 7,
     "metadata": {},
     "output_type": "execute_result"
    }
   ],
   "source": [
    "s.index('p')"
   ]
  },
  {
   "cell_type": "code",
   "execution_count": 8,
   "id": "bc6f0988",
   "metadata": {
    "ExecuteTime": {
     "end_time": "2022-11-24T18:51:39.106284Z",
     "start_time": "2022-11-24T18:51:39.080945Z"
    }
   },
   "outputs": [
    {
     "data": {
      "text/plain": [
       "True"
      ]
     },
     "execution_count": 8,
     "metadata": {},
     "output_type": "execute_result"
    }
   ],
   "source": [
    "s.islower()"
   ]
  },
  {
   "cell_type": "code",
   "execution_count": 9,
   "id": "1bd38e30",
   "metadata": {
    "ExecuteTime": {
     "end_time": "2022-11-24T18:51:39.367214Z",
     "start_time": "2022-11-24T18:51:39.355181Z"
    }
   },
   "outputs": [
    {
     "data": {
      "text/plain": [
       "'we are learning python'"
      ]
     },
     "execution_count": 9,
     "metadata": {},
     "output_type": "execute_result"
    }
   ],
   "source": [
    "s"
   ]
  },
  {
   "cell_type": "code",
   "execution_count": 10,
   "id": "50811e8a",
   "metadata": {
    "ExecuteTime": {
     "end_time": "2022-11-24T18:51:39.626745Z",
     "start_time": "2022-11-24T18:51:39.620696Z"
    }
   },
   "outputs": [],
   "source": [
    "s=\"We are learning python\""
   ]
  },
  {
   "cell_type": "markdown",
   "id": "5bdaffa2",
   "metadata": {},
   "source": [
    "# Typecasting\n"
   ]
  },
  {
   "cell_type": "code",
   "execution_count": 11,
   "id": "26a87666",
   "metadata": {
    "ExecuteTime": {
     "end_time": "2022-11-24T18:51:40.100098Z",
     "start_time": "2022-11-24T18:51:40.087159Z"
    }
   },
   "outputs": [
    {
     "data": {
      "text/plain": [
       "'We*are*learning*python'"
      ]
     },
     "execution_count": 11,
     "metadata": {},
     "output_type": "execute_result"
    }
   ],
   "source": [
    "s.replace(' ','*')"
   ]
  },
  {
   "cell_type": "code",
   "execution_count": 12,
   "id": "ccd5b29b",
   "metadata": {
    "ExecuteTime": {
     "end_time": "2022-11-24T18:51:40.330929Z",
     "start_time": "2022-11-24T18:51:40.319414Z"
    }
   },
   "outputs": [
    {
     "data": {
      "text/plain": [
       "'W@e@ @a@r@e@ @l@e@a@r@n@i@n@g@ @p@y@t@h@o@n'"
      ]
     },
     "execution_count": 12,
     "metadata": {},
     "output_type": "execute_result"
    }
   ],
   "source": [
    "'@'.join(s)"
   ]
  },
  {
   "cell_type": "code",
   "execution_count": 13,
   "id": "5bea4d74",
   "metadata": {
    "ExecuteTime": {
     "end_time": "2022-11-24T18:51:40.568057Z",
     "start_time": "2022-11-24T18:51:40.552575Z"
    }
   },
   "outputs": [
    {
     "data": {
      "text/plain": [
       "'We are learning python'"
      ]
     },
     "execution_count": 13,
     "metadata": {},
     "output_type": "execute_result"
    }
   ],
   "source": [
    "s"
   ]
  },
  {
   "cell_type": "code",
   "execution_count": 14,
   "id": "4034798c",
   "metadata": {
    "ExecuteTime": {
     "end_time": "2022-11-24T18:51:40.795148Z",
     "start_time": "2022-11-24T18:51:40.785494Z"
    }
   },
   "outputs": [],
   "source": [
    "s= s.replace(' ','*')"
   ]
  },
  {
   "cell_type": "code",
   "execution_count": 15,
   "id": "8dbe42d7",
   "metadata": {
    "ExecuteTime": {
     "end_time": "2022-11-24T18:51:41.046306Z",
     "start_time": "2022-11-24T18:51:41.033998Z"
    }
   },
   "outputs": [
    {
     "data": {
      "text/plain": [
       "['We*are*learning*python']"
      ]
     },
     "execution_count": 15,
     "metadata": {},
     "output_type": "execute_result"
    }
   ],
   "source": [
    "s.split(' ')"
   ]
  },
  {
   "cell_type": "code",
   "execution_count": 16,
   "id": "c04e2c48",
   "metadata": {
    "ExecuteTime": {
     "end_time": "2022-11-24T18:51:41.282762Z",
     "start_time": "2022-11-24T18:51:41.267325Z"
    }
   },
   "outputs": [
    {
     "data": {
      "text/plain": [
       "'We*are*learning*python'"
      ]
     },
     "execution_count": 16,
     "metadata": {},
     "output_type": "execute_result"
    }
   ],
   "source": [
    "s"
   ]
  },
  {
   "cell_type": "code",
   "execution_count": 17,
   "id": "797d85e0",
   "metadata": {
    "ExecuteTime": {
     "end_time": "2022-11-24T18:51:41.517510Z",
     "start_time": "2022-11-24T18:51:41.504052Z"
    }
   },
   "outputs": [
    {
     "data": {
      "text/plain": [
       "['We', 'are', 'learning', 'python']"
      ]
     },
     "execution_count": 17,
     "metadata": {},
     "output_type": "execute_result"
    }
   ],
   "source": [
    "s.split('*')"
   ]
  },
  {
   "cell_type": "code",
   "execution_count": 18,
   "id": "5f363cc8",
   "metadata": {
    "ExecuteTime": {
     "end_time": "2022-11-24T18:51:41.734707Z",
     "start_time": "2022-11-24T18:51:41.718695Z"
    }
   },
   "outputs": [
    {
     "data": {
      "text/plain": [
       "'W$e$*$a$r$e$*$l$e$a$r$n$i$n$g$*$p$y$t$h$o$n'"
      ]
     },
     "execution_count": 18,
     "metadata": {},
     "output_type": "execute_result"
    }
   ],
   "source": [
    "'$'.join(s)"
   ]
  },
  {
   "cell_type": "code",
   "execution_count": null,
   "id": "a2898a90",
   "metadata": {},
   "outputs": [],
   "source": []
  },
  {
   "cell_type": "code",
   "execution_count": null,
   "id": "994a8161",
   "metadata": {},
   "outputs": [],
   "source": []
  },
  {
   "cell_type": "code",
   "execution_count": null,
   "id": "4d422bcc",
   "metadata": {},
   "outputs": [],
   "source": []
  }
 ],
 "metadata": {
  "gist": {
   "data": {
    "description": "Untitled Folder/Python_Basics.ipynb",
    "public": true
   },
   "id": ""
  },
  "kernelspec": {
   "display_name": "Python 3 (ipykernel)",
   "language": "python",
   "name": "python3"
  },
  "language_info": {
   "codemirror_mode": {
    "name": "ipython",
    "version": 3
   },
   "file_extension": ".py",
   "mimetype": "text/x-python",
   "name": "python",
   "nbconvert_exporter": "python",
   "pygments_lexer": "ipython3",
   "version": "3.9.13"
  }
 },
 "nbformat": 4,
 "nbformat_minor": 5
}
